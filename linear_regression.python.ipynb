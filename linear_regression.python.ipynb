{
 "cells": [
  {
   "cell_type": "markdown",
   "id": "f9678e13",
   "metadata": {},
   "source": [
    "# Previsão de variavel usando regressão linear"
   ]
  },
  {
   "cell_type": "markdown",
   "id": "b2e5d473",
   "metadata": {},
   "source": [
    "## Importação de pacotes"
   ]
  },
  {
   "cell_type": "code",
   "execution_count": 17,
   "id": "822b93fd",
   "metadata": {},
   "outputs": [],
   "source": [
    "import pandas as pd\n",
    "#from prophet import Prophet\n",
    "import matplotlib.pyplot as plt\n",
    "import numpy as np\n",
    "from sklearn.linear_model import LinearRegression\n",
    "import seaborn as sns\n",
    "sns.set_theme(color_codes=True)"
   ]
  },
  {
   "cell_type": "markdown",
   "id": "b575eb4d",
   "metadata": {},
   "source": [
    "## Ler multiplas abas do excel e fazer o bind rows"
   ]
  },
  {
   "cell_type": "code",
   "execution_count": 18,
   "id": "d2967446",
   "metadata": {},
   "outputs": [],
   "source": [
    "def read_excel_sheets(xls_path):\n",
    "    \"\"\"Read all sheets of an Excel workbook and return a single DataFrame\"\"\"\n",
    "    print(f'Loading {xls_path} into pandas')\n",
    "    xl = pd.ExcelFile(xls_path)\n",
    "    df = pd.DataFrame()\n",
    "    columns = None\n",
    "    for idx, name in enumerate(xl.sheet_names):\n",
    "        print(f'Reading sheet #{idx}: {name}')\n",
    "        sheet = xl.parse(name)\n",
    "        if idx == 0:\n",
    "            # Save column names from the first sheet to match for append\n",
    "            columns = sheet.columns\n",
    "        sheet.columns = columns\n",
    "        # Assume index of existing data frame when appended\n",
    "        df = df.append(sheet, ignore_index=True)\n",
    "    return df"
   ]
  },
  {
   "cell_type": "code",
   "execution_count": 19,
   "id": "3f3403e7",
   "metadata": {},
   "outputs": [
    {
     "name": "stdout",
     "output_type": "stream",
     "text": [
      "Loading PREVISAO_VARIAVEL.xlsx into pandas\n",
      "Reading sheet #0: TIME1\n",
      "Reading sheet #1: TIME2\n",
      "Reading sheet #2: TIME3\n",
      "Reading sheet #3: TIME4\n",
      "Reading sheet #4: TIME5\n",
      "Reading sheet #5: TIME6\n",
      "Reading sheet #6: TIME7\n"
     ]
    }
   ],
   "source": [
    "df = read_excel_sheets('PREVISAO_VARIAVEL.xlsx')"
   ]
  },
  {
   "cell_type": "markdown",
   "id": "6349648d",
   "metadata": {},
   "source": [
    "## Investigar os dados"
   ]
  },
  {
   "cell_type": "code",
   "execution_count": 20,
   "id": "82fef4c1",
   "metadata": {},
   "outputs": [
    {
     "data": {
      "text/html": [
       "<div>\n",
       "<style scoped>\n",
       "    .dataframe tbody tr th:only-of-type {\n",
       "        vertical-align: middle;\n",
       "    }\n",
       "\n",
       "    .dataframe tbody tr th {\n",
       "        vertical-align: top;\n",
       "    }\n",
       "\n",
       "    .dataframe thead th {\n",
       "        text-align: right;\n",
       "    }\n",
       "</style>\n",
       "<table border=\"1\" class=\"dataframe\">\n",
       "  <thead>\n",
       "    <tr style=\"text-align: right;\">\n",
       "      <th></th>\n",
       "      <th>08/2021</th>\n",
       "      <th>X</th>\n",
       "      <th>VARIAVEL1</th>\n",
       "      <th>ANO</th>\n",
       "      <th>TIME</th>\n",
       "      <th>variavel2</th>\n",
       "      <th>01</th>\n",
       "      <th>02</th>\n",
       "      <th>03</th>\n",
       "      <th>04</th>\n",
       "      <th>...</th>\n",
       "      <th>22</th>\n",
       "      <th>23</th>\n",
       "      <th>24</th>\n",
       "      <th>25</th>\n",
       "      <th>26</th>\n",
       "      <th>27</th>\n",
       "      <th>28</th>\n",
       "      <th>29</th>\n",
       "      <th>30</th>\n",
       "      <th>31</th>\n",
       "    </tr>\n",
       "  </thead>\n",
       "  <tbody>\n",
       "    <tr>\n",
       "      <th>634</th>\n",
       "      <td>TOTAL</td>\n",
       "      <td>NaN</td>\n",
       "      <td>NaN</td>\n",
       "      <td>NaN</td>\n",
       "      <td>NaN</td>\n",
       "      <td>306113.0</td>\n",
       "      <td>4395.0</td>\n",
       "      <td>7011.0</td>\n",
       "      <td>16193.0</td>\n",
       "      <td>12099.0</td>\n",
       "      <td>...</td>\n",
       "      <td>4369.0</td>\n",
       "      <td>20783.0</td>\n",
       "      <td>16930.0</td>\n",
       "      <td>13833.0</td>\n",
       "      <td>12177.0</td>\n",
       "      <td>5352.0</td>\n",
       "      <td>5627.0</td>\n",
       "      <td>3155.0</td>\n",
       "      <td>6529.0</td>\n",
       "      <td>NaN</td>\n",
       "    </tr>\n",
       "  </tbody>\n",
       "</table>\n",
       "<p>1 rows × 37 columns</p>\n",
       "</div>"
      ],
      "text/plain": [
       "    08/2021   X VARIAVEL1  ANO TIME  variavel2      01      02       03  \\\n",
       "634   TOTAL NaN       NaN  NaN  NaN   306113.0  4395.0  7011.0  16193.0   \n",
       "\n",
       "          04  ...      22       23       24       25       26      27      28  \\\n",
       "634  12099.0  ...  4369.0  20783.0  16930.0  13833.0  12177.0  5352.0  5627.0   \n",
       "\n",
       "         29      30  31  \n",
       "634  3155.0  6529.0 NaN  \n",
       "\n",
       "[1 rows x 37 columns]"
      ]
     },
     "execution_count": 20,
     "metadata": {},
     "output_type": "execute_result"
    }
   ],
   "source": [
    "df.tail(1)"
   ]
  },
  {
   "cell_type": "code",
   "execution_count": 21,
   "id": "31ee6fbf",
   "metadata": {},
   "outputs": [
    {
     "data": {
      "text/plain": [
       "Index(['08/2021', 'X', 'VARIAVEL1', 'ANO', 'TIME', 'variavel2', '01', '02',\n",
       "       '03', '04', '05', '06', '07', '08', '09', '10', '11', '12', '13', '14',\n",
       "       '15', '16', '17', '18', '19', '20', '21', '22', '23', '24', '25', '26',\n",
       "       '27', '28', '29', '30', '31'],\n",
       "      dtype='object')"
      ]
     },
     "execution_count": 21,
     "metadata": {},
     "output_type": "execute_result"
    }
   ],
   "source": [
    "df.columns"
   ]
  },
  {
   "cell_type": "code",
   "execution_count": 22,
   "id": "918bd4d3",
   "metadata": {},
   "outputs": [
    {
     "data": {
      "text/plain": [
       "(635, 37)"
      ]
     },
     "execution_count": 22,
     "metadata": {},
     "output_type": "execute_result"
    }
   ],
   "source": [
    "df.shape"
   ]
  },
  {
   "cell_type": "markdown",
   "id": "b021b55b",
   "metadata": {},
   "source": [
    "## Subseting dados"
   ]
  },
  {
   "cell_type": "code",
   "execution_count": 23,
   "id": "861ad5fc",
   "metadata": {},
   "outputs": [],
   "source": [
    "equipe = ['FT REG1','VNA REG1','REG1 FT REG1','REG1 MT REG1','REG1 MTX REG1','REG1 U3 REG1','REG1 U2 REG1']"
   ]
  },
  {
   "cell_type": "code",
   "execution_count": 25,
   "id": "08cd25c7",
   "metadata": {},
   "outputs": [],
   "source": [
    "df = df[df.TIME.isin(equipe)]"
   ]
  },
  {
   "cell_type": "markdown",
   "id": "24c6b522",
   "metadata": {},
   "source": [
    "## Transformar os dados (pivot wide to longer)"
   ]
  },
  {
   "cell_type": "code",
   "execution_count": 27,
   "id": "ede8ff1d",
   "metadata": {},
   "outputs": [],
   "source": [
    "df = df.loc[:,'01':'31'] #Returns a new dataframe with columns a,b and c"
   ]
  },
  {
   "cell_type": "code",
   "execution_count": 28,
   "id": "d0474801",
   "metadata": {},
   "outputs": [
    {
     "data": {
      "text/html": [
       "<div>\n",
       "<style scoped>\n",
       "    .dataframe tbody tr th:only-of-type {\n",
       "        vertical-align: middle;\n",
       "    }\n",
       "\n",
       "    .dataframe tbody tr th {\n",
       "        vertical-align: top;\n",
       "    }\n",
       "\n",
       "    .dataframe thead th {\n",
       "        text-align: right;\n",
       "    }\n",
       "</style>\n",
       "<table border=\"1\" class=\"dataframe\">\n",
       "  <thead>\n",
       "    <tr style=\"text-align: right;\">\n",
       "      <th></th>\n",
       "      <th>01</th>\n",
       "      <th>02</th>\n",
       "      <th>03</th>\n",
       "      <th>04</th>\n",
       "      <th>05</th>\n",
       "      <th>06</th>\n",
       "      <th>07</th>\n",
       "      <th>08</th>\n",
       "      <th>09</th>\n",
       "      <th>10</th>\n",
       "      <th>...</th>\n",
       "      <th>22</th>\n",
       "      <th>23</th>\n",
       "      <th>24</th>\n",
       "      <th>25</th>\n",
       "      <th>26</th>\n",
       "      <th>27</th>\n",
       "      <th>28</th>\n",
       "      <th>29</th>\n",
       "      <th>30</th>\n",
       "      <th>31</th>\n",
       "    </tr>\n",
       "  </thead>\n",
       "  <tbody>\n",
       "    <tr>\n",
       "      <th>498</th>\n",
       "      <td>NaN</td>\n",
       "      <td>435.0</td>\n",
       "      <td>265.0</td>\n",
       "      <td>97.0</td>\n",
       "      <td>165.0</td>\n",
       "      <td>253.0</td>\n",
       "      <td>476.0</td>\n",
       "      <td>336.0</td>\n",
       "      <td>NaN</td>\n",
       "      <td>336.0</td>\n",
       "      <td>...</td>\n",
       "      <td>NaN</td>\n",
       "      <td>372.0</td>\n",
       "      <td>NaN</td>\n",
       "      <td>433.0</td>\n",
       "      <td>370.0</td>\n",
       "      <td>119.0</td>\n",
       "      <td>342.0</td>\n",
       "      <td>NaN</td>\n",
       "      <td>NaN</td>\n",
       "      <td>NaN</td>\n",
       "    </tr>\n",
       "    <tr>\n",
       "      <th>499</th>\n",
       "      <td>567.0</td>\n",
       "      <td>NaN</td>\n",
       "      <td>478.0</td>\n",
       "      <td>NaN</td>\n",
       "      <td>NaN</td>\n",
       "      <td>947.0</td>\n",
       "      <td>311.0</td>\n",
       "      <td>NaN</td>\n",
       "      <td>321.0</td>\n",
       "      <td>259.0</td>\n",
       "      <td>...</td>\n",
       "      <td>NaN</td>\n",
       "      <td>492.0</td>\n",
       "      <td>NaN</td>\n",
       "      <td>661.0</td>\n",
       "      <td>173.0</td>\n",
       "      <td>268.0</td>\n",
       "      <td>NaN</td>\n",
       "      <td>NaN</td>\n",
       "      <td>580.0</td>\n",
       "      <td>NaN</td>\n",
       "    </tr>\n",
       "    <tr>\n",
       "      <th>500</th>\n",
       "      <td>NaN</td>\n",
       "      <td>384.0</td>\n",
       "      <td>192.0</td>\n",
       "      <td>207.0</td>\n",
       "      <td>177.0</td>\n",
       "      <td>466.0</td>\n",
       "      <td>NaN</td>\n",
       "      <td>353.0</td>\n",
       "      <td>147.0</td>\n",
       "      <td>167.0</td>\n",
       "      <td>...</td>\n",
       "      <td>NaN</td>\n",
       "      <td>587.0</td>\n",
       "      <td>156.0</td>\n",
       "      <td>70.0</td>\n",
       "      <td>193.0</td>\n",
       "      <td>177.0</td>\n",
       "      <td>179.0</td>\n",
       "      <td>NaN</td>\n",
       "      <td>377.0</td>\n",
       "      <td>NaN</td>\n",
       "    </tr>\n",
       "    <tr>\n",
       "      <th>501</th>\n",
       "      <td>NaN</td>\n",
       "      <td>NaN</td>\n",
       "      <td>NaN</td>\n",
       "      <td>607.0</td>\n",
       "      <td>NaN</td>\n",
       "      <td>NaN</td>\n",
       "      <td>NaN</td>\n",
       "      <td>NaN</td>\n",
       "      <td>NaN</td>\n",
       "      <td>NaN</td>\n",
       "      <td>...</td>\n",
       "      <td>NaN</td>\n",
       "      <td>829.0</td>\n",
       "      <td>269.0</td>\n",
       "      <td>357.0</td>\n",
       "      <td>154.0</td>\n",
       "      <td>151.0</td>\n",
       "      <td>NaN</td>\n",
       "      <td>442.0</td>\n",
       "      <td>NaN</td>\n",
       "      <td>NaN</td>\n",
       "    </tr>\n",
       "    <tr>\n",
       "      <th>502</th>\n",
       "      <td>NaN</td>\n",
       "      <td>512.0</td>\n",
       "      <td>NaN</td>\n",
       "      <td>457.0</td>\n",
       "      <td>NaN</td>\n",
       "      <td>649.0</td>\n",
       "      <td>NaN</td>\n",
       "      <td>NaN</td>\n",
       "      <td>563.0</td>\n",
       "      <td>NaN</td>\n",
       "      <td>...</td>\n",
       "      <td>NaN</td>\n",
       "      <td>594.0</td>\n",
       "      <td>NaN</td>\n",
       "      <td>650.0</td>\n",
       "      <td>NaN</td>\n",
       "      <td>NaN</td>\n",
       "      <td>480.0</td>\n",
       "      <td>NaN</td>\n",
       "      <td>NaN</td>\n",
       "      <td>NaN</td>\n",
       "    </tr>\n",
       "  </tbody>\n",
       "</table>\n",
       "<p>5 rows × 31 columns</p>\n",
       "</div>"
      ],
      "text/plain": [
       "        01     02     03     04     05     06     07     08     09     10  \\\n",
       "498    NaN  435.0  265.0   97.0  165.0  253.0  476.0  336.0    NaN  336.0   \n",
       "499  567.0    NaN  478.0    NaN    NaN  947.0  311.0    NaN  321.0  259.0   \n",
       "500    NaN  384.0  192.0  207.0  177.0  466.0    NaN  353.0  147.0  167.0   \n",
       "501    NaN    NaN    NaN  607.0    NaN    NaN    NaN    NaN    NaN    NaN   \n",
       "502    NaN  512.0    NaN  457.0    NaN  649.0    NaN    NaN  563.0    NaN   \n",
       "\n",
       "     ...  22     23     24     25     26     27     28     29     30  31  \n",
       "498  ... NaN  372.0    NaN  433.0  370.0  119.0  342.0    NaN    NaN NaN  \n",
       "499  ... NaN  492.0    NaN  661.0  173.0  268.0    NaN    NaN  580.0 NaN  \n",
       "500  ... NaN  587.0  156.0   70.0  193.0  177.0  179.0    NaN  377.0 NaN  \n",
       "501  ... NaN  829.0  269.0  357.0  154.0  151.0    NaN  442.0    NaN NaN  \n",
       "502  ... NaN  594.0    NaN  650.0    NaN    NaN  480.0    NaN    NaN NaN  \n",
       "\n",
       "[5 rows x 31 columns]"
      ]
     },
     "execution_count": 28,
     "metadata": {},
     "output_type": "execute_result"
    }
   ],
   "source": [
    "df.tail()"
   ]
  },
  {
   "cell_type": "code",
   "execution_count": 29,
   "id": "367cbbc1",
   "metadata": {},
   "outputs": [],
   "source": [
    "df = df.unstack().reset_index()"
   ]
  },
  {
   "cell_type": "code",
   "execution_count": 30,
   "id": "d9d6e712",
   "metadata": {},
   "outputs": [
    {
     "data": {
      "text/html": [
       "<div>\n",
       "<style scoped>\n",
       "    .dataframe tbody tr th:only-of-type {\n",
       "        vertical-align: middle;\n",
       "    }\n",
       "\n",
       "    .dataframe tbody tr th {\n",
       "        vertical-align: top;\n",
       "    }\n",
       "\n",
       "    .dataframe thead th {\n",
       "        text-align: right;\n",
       "    }\n",
       "</style>\n",
       "<table border=\"1\" class=\"dataframe\">\n",
       "  <thead>\n",
       "    <tr style=\"text-align: right;\">\n",
       "      <th></th>\n",
       "      <th>level_0</th>\n",
       "      <th>level_1</th>\n",
       "      <th>0</th>\n",
       "    </tr>\n",
       "  </thead>\n",
       "  <tbody>\n",
       "    <tr>\n",
       "      <th>8024</th>\n",
       "      <td>31</td>\n",
       "      <td>498</td>\n",
       "      <td>NaN</td>\n",
       "    </tr>\n",
       "    <tr>\n",
       "      <th>8025</th>\n",
       "      <td>31</td>\n",
       "      <td>499</td>\n",
       "      <td>NaN</td>\n",
       "    </tr>\n",
       "    <tr>\n",
       "      <th>8026</th>\n",
       "      <td>31</td>\n",
       "      <td>500</td>\n",
       "      <td>NaN</td>\n",
       "    </tr>\n",
       "    <tr>\n",
       "      <th>8027</th>\n",
       "      <td>31</td>\n",
       "      <td>501</td>\n",
       "      <td>NaN</td>\n",
       "    </tr>\n",
       "    <tr>\n",
       "      <th>8028</th>\n",
       "      <td>31</td>\n",
       "      <td>502</td>\n",
       "      <td>NaN</td>\n",
       "    </tr>\n",
       "  </tbody>\n",
       "</table>\n",
       "</div>"
      ],
      "text/plain": [
       "     level_0  level_1   0\n",
       "8024      31      498 NaN\n",
       "8025      31      499 NaN\n",
       "8026      31      500 NaN\n",
       "8027      31      501 NaN\n",
       "8028      31      502 NaN"
      ]
     },
     "execution_count": 30,
     "metadata": {},
     "output_type": "execute_result"
    }
   ],
   "source": [
    "df.tail()"
   ]
  },
  {
   "cell_type": "code",
   "execution_count": 31,
   "id": "cf333eae",
   "metadata": {},
   "outputs": [],
   "source": [
    "df.columns = [['DIA','idx','VARIAVEL2']]"
   ]
  },
  {
   "cell_type": "code",
   "execution_count": 33,
   "id": "faae10de",
   "metadata": {},
   "outputs": [
    {
     "data": {
      "text/plain": [
       "VARIAVEL2    4137\n",
       "dtype: int64"
      ]
     },
     "execution_count": 33,
     "metadata": {},
     "output_type": "execute_result"
    }
   ],
   "source": [
    "df['VARIAVEL2'].isna().sum()"
   ]
  },
  {
   "cell_type": "code",
   "execution_count": 34,
   "id": "2fd11f40",
   "metadata": {},
   "outputs": [
    {
     "data": {
      "text/plain": [
       "DIA    0\n",
       "dtype: int64"
      ]
     },
     "execution_count": 34,
     "metadata": {},
     "output_type": "execute_result"
    }
   ],
   "source": [
    "df['DIA'].isna().sum()"
   ]
  },
  {
   "cell_type": "code",
   "execution_count": 35,
   "id": "548442c2",
   "metadata": {},
   "outputs": [],
   "source": [
    "df.dropna(inplace=True)"
   ]
  },
  {
   "cell_type": "code",
   "execution_count": 36,
   "id": "70011c3d",
   "metadata": {},
   "outputs": [
    {
     "data": {
      "text/plain": [
       "VARIAVEL2    0\n",
       "dtype: int64"
      ]
     },
     "execution_count": 36,
     "metadata": {},
     "output_type": "execute_result"
    }
   ],
   "source": [
    "df['VARIAVEL2'].isna().sum()"
   ]
  },
  {
   "cell_type": "markdown",
   "id": "81ae10fd",
   "metadata": {},
   "source": [
    "## Renomear as colunas"
   ]
  },
  {
   "cell_type": "code",
   "execution_count": 37,
   "id": "3a9ceb3f",
   "metadata": {},
   "outputs": [],
   "source": [
    "df = df[['DIA','VARIAVEL2']]"
   ]
  },
  {
   "cell_type": "code",
   "execution_count": 38,
   "id": "9d12de3d",
   "metadata": {},
   "outputs": [
    {
     "data": {
      "text/html": [
       "<div>\n",
       "<style scoped>\n",
       "    .dataframe tbody tr th:only-of-type {\n",
       "        vertical-align: middle;\n",
       "    }\n",
       "\n",
       "    .dataframe tbody tr th {\n",
       "        vertical-align: top;\n",
       "    }\n",
       "\n",
       "    .dataframe thead tr th {\n",
       "        text-align: left;\n",
       "    }\n",
       "</style>\n",
       "<table border=\"1\" class=\"dataframe\">\n",
       "  <thead>\n",
       "    <tr>\n",
       "      <th></th>\n",
       "      <th>DIA</th>\n",
       "      <th>VARIAVEL2</th>\n",
       "    </tr>\n",
       "  </thead>\n",
       "  <tbody>\n",
       "    <tr>\n",
       "      <th>7</th>\n",
       "      <td>01</td>\n",
       "      <td>377.0</td>\n",
       "    </tr>\n",
       "    <tr>\n",
       "      <th>30</th>\n",
       "      <td>01</td>\n",
       "      <td>130.0</td>\n",
       "    </tr>\n",
       "    <tr>\n",
       "      <th>31</th>\n",
       "      <td>01</td>\n",
       "      <td>705.0</td>\n",
       "    </tr>\n",
       "    <tr>\n",
       "      <th>34</th>\n",
       "      <td>01</td>\n",
       "      <td>286.0</td>\n",
       "    </tr>\n",
       "    <tr>\n",
       "      <th>35</th>\n",
       "      <td>01</td>\n",
       "      <td>518.0</td>\n",
       "    </tr>\n",
       "    <tr>\n",
       "      <th>39</th>\n",
       "      <td>01</td>\n",
       "      <td>459.0</td>\n",
       "    </tr>\n",
       "    <tr>\n",
       "      <th>40</th>\n",
       "      <td>01</td>\n",
       "      <td>334.0</td>\n",
       "    </tr>\n",
       "    <tr>\n",
       "      <th>43</th>\n",
       "      <td>01</td>\n",
       "      <td>231.0</td>\n",
       "    </tr>\n",
       "    <tr>\n",
       "      <th>44</th>\n",
       "      <td>01</td>\n",
       "      <td>182.0</td>\n",
       "    </tr>\n",
       "    <tr>\n",
       "      <th>45</th>\n",
       "      <td>01</td>\n",
       "      <td>198.0</td>\n",
       "    </tr>\n",
       "  </tbody>\n",
       "</table>\n",
       "</div>"
      ],
      "text/plain": [
       "   DIA VARIAVEL2\n",
       "7   01     377.0\n",
       "30  01     130.0\n",
       "31  01     705.0\n",
       "34  01     286.0\n",
       "35  01     518.0\n",
       "39  01     459.0\n",
       "40  01     334.0\n",
       "43  01     231.0\n",
       "44  01     182.0\n",
       "45  01     198.0"
      ]
     },
     "execution_count": 38,
     "metadata": {},
     "output_type": "execute_result"
    }
   ],
   "source": [
    "df.head(10)"
   ]
  },
  {
   "cell_type": "markdown",
   "id": "38fccc29",
   "metadata": {},
   "source": [
    "## Histograma Variavel de interesse"
   ]
  },
  {
   "cell_type": "code",
   "execution_count": 40,
   "id": "0c3c302c",
   "metadata": {},
   "outputs": [
    {
     "data": {
      "text/plain": [
       "<AxesSubplot:ylabel='Count'>"
      ]
     },
     "execution_count": 40,
     "metadata": {},
     "output_type": "execute_result"
    },
    {
     "data": {
      "image/png": "[encoded data removed]",
      "text/plain": [
       "<Figure size 432x288 with 1 Axes>"
      ]
     },
     "metadata": {},
     "output_type": "display_data"
    }
   ],
   "source": [
    "sns.histplot(data=df)"
   ]
  },
  {
   "cell_type": "code",
   "execution_count": 41,
   "id": "72f3942e",
   "metadata": {},
   "outputs": [
    {
     "data": {
      "text/html": [
       "<div>\n",
       "<style scoped>\n",
       "    .dataframe tbody tr th:only-of-type {\n",
       "        vertical-align: middle;\n",
       "    }\n",
       "\n",
       "    .dataframe tbody tr th {\n",
       "        vertical-align: top;\n",
       "    }\n",
       "\n",
       "    .dataframe thead tr th {\n",
       "        text-align: left;\n",
       "    }\n",
       "</style>\n",
       "<table border=\"1\" class=\"dataframe\">\n",
       "  <thead>\n",
       "    <tr>\n",
       "      <th></th>\n",
       "      <th>VARIAVEL2</th>\n",
       "    </tr>\n",
       "  </thead>\n",
       "  <tbody>\n",
       "    <tr>\n",
       "      <th>count</th>\n",
       "      <td>3892.0</td>\n",
       "    </tr>\n",
       "    <tr>\n",
       "      <th>mean</th>\n",
       "      <td>441.0</td>\n",
       "    </tr>\n",
       "    <tr>\n",
       "      <th>std</th>\n",
       "      <td>203.0</td>\n",
       "    </tr>\n",
       "    <tr>\n",
       "      <th>min</th>\n",
       "      <td>1.0</td>\n",
       "    </tr>\n",
       "    <tr>\n",
       "      <th>25%</th>\n",
       "      <td>302.0</td>\n",
       "    </tr>\n",
       "    <tr>\n",
       "      <th>50%</th>\n",
       "      <td>413.0</td>\n",
       "    </tr>\n",
       "    <tr>\n",
       "      <th>75%</th>\n",
       "      <td>538.0</td>\n",
       "    </tr>\n",
       "    <tr>\n",
       "      <th>max</th>\n",
       "      <td>2055.0</td>\n",
       "    </tr>\n",
       "  </tbody>\n",
       "</table>\n",
       "</div>"
      ],
      "text/plain": [
       "      VARIAVEL2\n",
       "count    3892.0\n",
       "mean      441.0\n",
       "std       203.0\n",
       "min         1.0\n",
       "25%       302.0\n",
       "50%       413.0\n",
       "75%       538.0\n",
       "max      2055.0"
      ]
     },
     "execution_count": 41,
     "metadata": {},
     "output_type": "execute_result"
    }
   ],
   "source": [
    "df.describe().round()"
   ]
  },
  {
   "cell_type": "markdown",
   "id": "e2545e6a",
   "metadata": {},
   "source": [
    "## Group by por dia "
   ]
  },
  {
   "cell_type": "code",
   "execution_count": 42,
   "id": "5fa4bca1",
   "metadata": {},
   "outputs": [],
   "source": [
    "df.columns = ['DIA', 'VARIAVEL2']"
   ]
  },
  {
   "cell_type": "code",
   "execution_count": 43,
   "id": "f557d5e9",
   "metadata": {},
   "outputs": [],
   "source": [
    "df = df.groupby(['DIA']).sum()"
   ]
  },
  {
   "cell_type": "code",
   "execution_count": 44,
   "id": "4b9dad7d",
   "metadata": {},
   "outputs": [
    {
     "data": {
      "text/html": [
       "<div>\n",
       "<style scoped>\n",
       "    .dataframe tbody tr th:only-of-type {\n",
       "        vertical-align: middle;\n",
       "    }\n",
       "\n",
       "    .dataframe tbody tr th {\n",
       "        vertical-align: top;\n",
       "    }\n",
       "\n",
       "    .dataframe thead th {\n",
       "        text-align: right;\n",
       "    }\n",
       "</style>\n",
       "<table border=\"1\" class=\"dataframe\">\n",
       "  <thead>\n",
       "    <tr style=\"text-align: right;\">\n",
       "      <th></th>\n",
       "      <th>VARIAVEL2</th>\n",
       "    </tr>\n",
       "    <tr>\n",
       "      <th>DIA</th>\n",
       "      <th></th>\n",
       "    </tr>\n",
       "  </thead>\n",
       "  <tbody>\n",
       "    <tr>\n",
       "      <th>26</th>\n",
       "      <td>69465.0</td>\n",
       "    </tr>\n",
       "    <tr>\n",
       "      <th>27</th>\n",
       "      <td>66149.0</td>\n",
       "    </tr>\n",
       "    <tr>\n",
       "      <th>28</th>\n",
       "      <td>40775.0</td>\n",
       "    </tr>\n",
       "    <tr>\n",
       "      <th>29</th>\n",
       "      <td>20572.0</td>\n",
       "    </tr>\n",
       "    <tr>\n",
       "      <th>30</th>\n",
       "      <td>65647.0</td>\n",
       "    </tr>\n",
       "  </tbody>\n",
       "</table>\n",
       "</div>"
      ],
      "text/plain": [
       "     VARIAVEL2\n",
       "DIA           \n",
       "26     69465.0\n",
       "27     66149.0\n",
       "28     40775.0\n",
       "29     20572.0\n",
       "30     65647.0"
      ]
     },
     "execution_count": 44,
     "metadata": {},
     "output_type": "execute_result"
    }
   ],
   "source": [
    "df.tail()"
   ]
  },
  {
   "cell_type": "markdown",
   "id": "179e8df4",
   "metadata": {},
   "source": [
    "## Cumsum "
   ]
  },
  {
   "cell_type": "code",
   "execution_count": 45,
   "id": "0a1f39e5",
   "metadata": {},
   "outputs": [],
   "source": [
    "df = df.cumsum()"
   ]
  },
  {
   "cell_type": "code",
   "execution_count": 46,
   "id": "bf9130dc",
   "metadata": {},
   "outputs": [],
   "source": [
    "df = df.reset_index()"
   ]
  },
  {
   "cell_type": "code",
   "execution_count": 47,
   "id": "1dda81c7",
   "metadata": {},
   "outputs": [
    {
     "data": {
      "text/plain": [
       "DIA           object\n",
       "VARIAVEL2    float64\n",
       "dtype: object"
      ]
     },
     "execution_count": 47,
     "metadata": {},
     "output_type": "execute_result"
    }
   ],
   "source": [
    "df.dtypes"
   ]
  },
  {
   "cell_type": "code",
   "execution_count": 48,
   "id": "6ecd1202",
   "metadata": {},
   "outputs": [
    {
     "data": {
      "text/html": [
       "<div>\n",
       "<style scoped>\n",
       "    .dataframe tbody tr th:only-of-type {\n",
       "        vertical-align: middle;\n",
       "    }\n",
       "\n",
       "    .dataframe tbody tr th {\n",
       "        vertical-align: top;\n",
       "    }\n",
       "\n",
       "    .dataframe thead th {\n",
       "        text-align: right;\n",
       "    }\n",
       "</style>\n",
       "<table border=\"1\" class=\"dataframe\">\n",
       "  <thead>\n",
       "    <tr style=\"text-align: right;\">\n",
       "      <th></th>\n",
       "      <th>DIA</th>\n",
       "      <th>VARIAVEL2</th>\n",
       "    </tr>\n",
       "  </thead>\n",
       "  <tbody>\n",
       "    <tr>\n",
       "      <th>0</th>\n",
       "      <td>01</td>\n",
       "      <td>23499.0</td>\n",
       "    </tr>\n",
       "    <tr>\n",
       "      <th>1</th>\n",
       "      <td>02</td>\n",
       "      <td>86017.0</td>\n",
       "    </tr>\n",
       "    <tr>\n",
       "      <th>2</th>\n",
       "      <td>03</td>\n",
       "      <td>153241.0</td>\n",
       "    </tr>\n",
       "    <tr>\n",
       "      <th>3</th>\n",
       "      <td>04</td>\n",
       "      <td>216211.0</td>\n",
       "    </tr>\n",
       "    <tr>\n",
       "      <th>4</th>\n",
       "      <td>05</td>\n",
       "      <td>292895.0</td>\n",
       "    </tr>\n",
       "  </tbody>\n",
       "</table>\n",
       "</div>"
      ],
      "text/plain": [
       "  DIA  VARIAVEL2\n",
       "0  01    23499.0\n",
       "1  02    86017.0\n",
       "2  03   153241.0\n",
       "3  04   216211.0\n",
       "4  05   292895.0"
      ]
     },
     "execution_count": 48,
     "metadata": {},
     "output_type": "execute_result"
    }
   ],
   "source": [
    "df.head()"
   ]
  },
  {
   "cell_type": "markdown",
   "id": "94560ff4",
   "metadata": {},
   "source": [
    "## Drop last row by selecting all rows except last row"
   ]
  },
  {
   "cell_type": "code",
   "execution_count": 49,
   "id": "a38c4ef9",
   "metadata": {},
   "outputs": [],
   "source": [
    "df = df.iloc[:-10 , :]"
   ]
  },
  {
   "cell_type": "code",
   "execution_count": 50,
   "id": "73add49f",
   "metadata": {},
   "outputs": [],
   "source": [
    "df = df[['DIA','VARIAVEL2']]"
   ]
  },
  {
   "cell_type": "code",
   "execution_count": 51,
   "id": "aa675e02",
   "metadata": {},
   "outputs": [
    {
     "data": {
      "text/html": [
       "<div>\n",
       "<style scoped>\n",
       "    .dataframe tbody tr th:only-of-type {\n",
       "        vertical-align: middle;\n",
       "    }\n",
       "\n",
       "    .dataframe tbody tr th {\n",
       "        vertical-align: top;\n",
       "    }\n",
       "\n",
       "    .dataframe thead th {\n",
       "        text-align: right;\n",
       "    }\n",
       "</style>\n",
       "<table border=\"1\" class=\"dataframe\">\n",
       "  <thead>\n",
       "    <tr style=\"text-align: right;\">\n",
       "      <th></th>\n",
       "      <th>DIA</th>\n",
       "      <th>VARIAVEL2</th>\n",
       "    </tr>\n",
       "  </thead>\n",
       "  <tbody>\n",
       "    <tr>\n",
       "      <th>15</th>\n",
       "      <td>16</td>\n",
       "      <td>893954.0</td>\n",
       "    </tr>\n",
       "    <tr>\n",
       "      <th>16</th>\n",
       "      <td>17</td>\n",
       "      <td>967609.0</td>\n",
       "    </tr>\n",
       "    <tr>\n",
       "      <th>17</th>\n",
       "      <td>18</td>\n",
       "      <td>1037756.0</td>\n",
       "    </tr>\n",
       "    <tr>\n",
       "      <th>18</th>\n",
       "      <td>19</td>\n",
       "      <td>1109084.0</td>\n",
       "    </tr>\n",
       "    <tr>\n",
       "      <th>19</th>\n",
       "      <td>20</td>\n",
       "      <td>1177015.0</td>\n",
       "    </tr>\n",
       "  </tbody>\n",
       "</table>\n",
       "</div>"
      ],
      "text/plain": [
       "   DIA  VARIAVEL2\n",
       "15  16   893954.0\n",
       "16  17   967609.0\n",
       "17  18  1037756.0\n",
       "18  19  1109084.0\n",
       "19  20  1177015.0"
      ]
     },
     "execution_count": 51,
     "metadata": {},
     "output_type": "execute_result"
    }
   ],
   "source": [
    "df.tail()"
   ]
  },
  {
   "cell_type": "markdown",
   "id": "beeee7a0",
   "metadata": {},
   "source": [
    "## Mudar o tipo de dados"
   ]
  },
  {
   "cell_type": "code",
   "execution_count": 52,
   "id": "883a0186",
   "metadata": {},
   "outputs": [
    {
     "name": "stdout",
     "output_type": "stream",
     "text": [
      "<class 'pandas.core.frame.DataFrame'>\n",
      "RangeIndex: 20 entries, 0 to 19\n",
      "Data columns (total 2 columns):\n",
      " #   Column     Non-Null Count  Dtype  \n",
      "---  ------     --------------  -----  \n",
      " 0   DIA        20 non-null     object \n",
      " 1   VARIAVEL2  20 non-null     float64\n",
      "dtypes: float64(1), object(1)\n",
      "memory usage: 448.0+ bytes\n"
     ]
    }
   ],
   "source": [
    "df.info()"
   ]
  },
  {
   "cell_type": "code",
   "execution_count": 54,
   "id": "b61a934b",
   "metadata": {},
   "outputs": [],
   "source": [
    "df = df.astype({\"DIA\": int, \"VARIAVEL2\": int})"
   ]
  },
  {
   "cell_type": "code",
   "execution_count": 55,
   "id": "afcb7758",
   "metadata": {},
   "outputs": [
    {
     "name": "stdout",
     "output_type": "stream",
     "text": [
      "<class 'pandas.core.frame.DataFrame'>\n",
      "RangeIndex: 20 entries, 0 to 19\n",
      "Data columns (total 2 columns):\n",
      " #   Column     Non-Null Count  Dtype\n",
      "---  ------     --------------  -----\n",
      " 0   DIA        20 non-null     int32\n",
      " 1   VARIAVEL2  20 non-null     int32\n",
      "dtypes: int32(2)\n",
      "memory usage: 288.0 bytes\n"
     ]
    }
   ],
   "source": [
    "df.info()"
   ]
  },
  {
   "cell_type": "markdown",
   "id": "6e8d7960",
   "metadata": {},
   "source": [
    "## Criação do modelo"
   ]
  },
  {
   "cell_type": "code",
   "execution_count": 56,
   "id": "0bdfbe90",
   "metadata": {},
   "outputs": [],
   "source": [
    "x = df[['DIA']].to_numpy()\n",
    "y = df[['VARIAVEL2']].to_numpy()"
   ]
  },
  {
   "cell_type": "code",
   "execution_count": 57,
   "id": "db0482aa",
   "metadata": {},
   "outputs": [],
   "source": [
    "model = LinearRegression()"
   ]
  },
  {
   "cell_type": "code",
   "execution_count": 58,
   "id": "d8131435",
   "metadata": {},
   "outputs": [
    {
     "data": {
      "text/plain": [
       "LinearRegression()"
      ]
     },
     "execution_count": 58,
     "metadata": {},
     "output_type": "execute_result"
    }
   ],
   "source": [
    "model.fit(x, y)"
   ]
  },
  {
   "cell_type": "code",
   "execution_count": 59,
   "id": "127132c8",
   "metadata": {},
   "outputs": [],
   "source": [
    "model = LinearRegression().fit(x, y)"
   ]
  },
  {
   "cell_type": "markdown",
   "id": "1dc4d012",
   "metadata": {},
   "source": [
    "## Avaliação do modelo"
   ]
  },
  {
   "cell_type": "code",
   "execution_count": 60,
   "id": "060ea34a",
   "metadata": {},
   "outputs": [
    {
     "name": "stdout",
     "output_type": "stream",
     "text": [
      "coefficient of determination: 0.9972606066631106\n",
      "intercept: [-21094.88947368]\n",
      "slope:  [[58988.48947368]]\n"
     ]
    }
   ],
   "source": [
    "r_sq = model.score(x, y)\n",
    "print('coefficient of determination:', r_sq)\n",
    "print('intercept:', model.intercept_)\n",
    "print('slope: ', model.coef_)"
   ]
  },
  {
   "cell_type": "code",
   "execution_count": 61,
   "id": "2651fcbe",
   "metadata": {},
   "outputs": [
    {
     "name": "stdout",
     "output_type": "stream",
     "text": [
      "predicted response:\n",
      "[[  37893.6       ]\n",
      " [  96882.08947368]\n",
      " [ 155870.57894737]\n",
      " [ 214859.06842105]\n",
      " [ 273847.55789474]\n",
      " [ 332836.04736842]\n",
      " [ 391824.53684211]\n",
      " [ 450813.02631579]\n",
      " [ 509801.51578947]\n",
      " [ 568790.00526316]\n",
      " [ 627778.49473684]\n",
      " [ 686766.98421053]\n",
      " [ 745755.47368421]\n",
      " [ 804743.96315789]\n",
      " [ 863732.45263158]\n",
      " [ 922720.94210526]\n",
      " [ 981709.43157895]\n",
      " [1040697.92105263]\n",
      " [1099686.41052632]\n",
      " [1158674.9       ]]\n"
     ]
    }
   ],
   "source": [
    "y_pred = model.predict(x)\n",
    "print('predicted response:', y_pred, sep='\\n')"
   ]
  },
  {
   "cell_type": "markdown",
   "id": "278ed92b",
   "metadata": {},
   "source": [
    "## Visualizando o modelo de regressão linear"
   ]
  },
  {
   "cell_type": "code",
   "execution_count": 63,
   "id": "f90262ea",
   "metadata": {},
   "outputs": [
    {
     "data": {
      "image/png": "[encoded data removed]",
      "text/plain": [
       "<Figure size 432x288 with 1 Axes>"
      ]
     },
     "metadata": {},
     "output_type": "display_data"
    }
   ],
   "source": [
    "plt.scatter(x,y,color='green')\n",
    "plt.plot(x, model.predict(x),color='blue')\n",
    "plt.title('Linear Regression-VARIAVEL2')\n",
    "plt.xlabel('Dia')\n",
    "plt.ylabel('V2')\n",
    "plt.grid(True)\n",
    "plt.xticks()\n",
    "plt.yticks()\n",
    "plt.show()\n"
   ]
  },
  {
   "cell_type": "markdown",
   "id": "543599bb",
   "metadata": {},
   "source": [
    "## Check residuals"
   ]
  },
  {
   "cell_type": "code",
   "execution_count": 64,
   "id": "8a76d557",
   "metadata": {},
   "outputs": [
    {
     "data": {
      "text/plain": [
       "<AxesSubplot:xlabel='DIA', ylabel='VARIAVEL2'>"
      ]
     },
     "execution_count": 64,
     "metadata": {},
     "output_type": "execute_result"
    },
    {
     "data": {
      "image/png": "[encoded data removed]",
      "text/plain": [
       "<Figure size 432x288 with 1 Axes>"
      ]
     },
     "metadata": {},
     "output_type": "display_data"
    }
   ],
   "source": [
    "sns.residplot(x=\"DIA\", y=\"VARIAVEL2\", data=df,\n",
    "           order=0, scatter_kws={\"s\": 50})"
   ]
  },
  {
   "cell_type": "markdown",
   "id": "07315821",
   "metadata": {},
   "source": [
    "## Fazer Previsão com novos dados"
   ]
  },
  {
   "cell_type": "code",
   "execution_count": 65,
   "id": "8e4bc724",
   "metadata": {},
   "outputs": [],
   "source": [
    "x_new = np.arange(21,32).reshape((-1, 1))"
   ]
  },
  {
   "cell_type": "code",
   "execution_count": 66,
   "id": "f924e3b1",
   "metadata": {},
   "outputs": [
    {
     "name": "stdout",
     "output_type": "stream",
     "text": [
      "[[21]\n",
      " [22]\n",
      " [23]\n",
      " [24]\n",
      " [25]\n",
      " [26]\n",
      " [27]\n",
      " [28]\n",
      " [29]\n",
      " [30]\n",
      " [31]]\n"
     ]
    }
   ],
   "source": [
    "print(x_new)"
   ]
  },
  {
   "cell_type": "code",
   "execution_count": 67,
   "id": "58da56fc",
   "metadata": {},
   "outputs": [
    {
     "data": {
      "text/plain": [
       "(11, 1)"
      ]
     },
     "execution_count": 67,
     "metadata": {},
     "output_type": "execute_result"
    }
   ],
   "source": [
    "x_new.shape"
   ]
  },
  {
   "cell_type": "code",
   "execution_count": 68,
   "id": "7d6a038f",
   "metadata": {},
   "outputs": [
    {
     "name": "stdout",
     "output_type": "stream",
     "text": [
      "[[1217663.39]\n",
      " [1276651.88]\n",
      " [1335640.37]\n",
      " [1394628.86]\n",
      " [1453617.35]\n",
      " [1512605.84]\n",
      " [1571594.33]\n",
      " [1630582.82]\n",
      " [1689571.31]\n",
      " [1748559.79]\n",
      " [1807548.28]]\n"
     ]
    }
   ],
   "source": [
    "y_new = model.predict(x_new)\n",
    "print(y_new.round(2))"
   ]
  },
  {
   "cell_type": "code",
   "execution_count": 69,
   "id": "4127869a",
   "metadata": {},
   "outputs": [
    {
     "name": "stdout",
     "output_type": "stream",
     "text": [
      "[[1156780.22]\n",
      " [1212819.28]\n",
      " [1268858.35]\n",
      " [1324897.42]\n",
      " [1380936.48]\n",
      " [1436975.54]\n",
      " [1493014.61]\n",
      " [1549053.68]\n",
      " [1605092.74]\n",
      " [1661131.81]\n",
      " [1717170.87]]\n",
      "[[1217663.38947368]\n",
      " [1276651.87894737]\n",
      " [1335640.36842105]\n",
      " [1394628.85789474]\n",
      " [1453617.34736842]\n",
      " [1512605.83684211]\n",
      " [1571594.32631579]\n",
      " [1630582.81578947]\n",
      " [1689571.30526316]\n",
      " [1748559.79473684]\n",
      " [1807548.28421053]]\n",
      "[[1278546.56]\n",
      " [1340484.47]\n",
      " [1402422.39]\n",
      " [1464360.3 ]\n",
      " [1526298.21]\n",
      " [1588236.13]\n",
      " [1650174.04]\n",
      " [1712111.96]\n",
      " [1774049.87]\n",
      " [1835987.78]\n",
      " [1897925.7 ]]\n"
     ]
    }
   ],
   "source": [
    "y_upper = y_new + (y_new*0.05)\n",
    "y_lower = y_new - (y_new*0.05)\n",
    "\n",
    "print(y_lower.round(2))\n",
    "print(y_new)\n",
    "print(y_upper.round(2))"
   ]
  },
  {
   "cell_type": "code",
   "execution_count": 70,
   "id": "8a811ff4",
   "metadata": {},
   "outputs": [
    {
     "data": {
      "image/png": "[encoded data removed]",
      "text/plain": [
       "<Figure size 432x288 with 1 Axes>"
      ]
     },
     "metadata": {},
     "output_type": "display_data"
    }
   ],
   "source": [
    "#Visualising the pollynomial regression model results\n",
    "X = x\n",
    "plt.scatter(X,y,color='green')\n",
    "plt.plot(X,model.predict(X),color='red')\n",
    "plt.title('Linear Regression-VARIAVEL2)')\n",
    "plt.xlabel('Dia')\n",
    "plt.ylabel('VARIAVEL2')\n",
    "plt.grid(True)\n",
    "plt.plot(x_new,y_upper,color='red')\n",
    "plt.plot(x_new,y_lower,color='red')\n",
    "#plt.fill_between(x_new, y_lower, y_upper, edgecolor='g', facecolor='g', alpha=0.3)\n",
    "plt.plot(x_new,model.predict(x_new),color='purple')\n",
    "plt.show()"
   ]
  },
  {
   "cell_type": "code",
   "execution_count": 72,
   "id": "2c04b996",
   "metadata": {},
   "outputs": [],
   "source": [
    "VAR2_PREV = float(y_upper[-1:])\n",
    "VAR2_target = float(y_new[-1:])"
   ]
  },
  {
   "cell_type": "code",
   "execution_count": 74,
   "id": "e5046249",
   "metadata": {},
   "outputs": [
    {
     "name": "stdout",
     "output_type": "stream",
     "text": [
      "A previsão de VAR2 mensal será de 1897925.6984210527\n"
     ]
    }
   ],
   "source": [
    "print(\"A previsão de VAR2 mensal será de {}\".format(VAR2_PREV))"
   ]
  }
 ],
 "metadata": {
  "kernelspec": {
   "display_name": "Python 3",
   "language": "python",
   "name": "python3"
  },
  "language_info": {
   "codemirror_mode": {
    "name": "ipython",
    "version": 3
   },
   "file_extension": ".py",
   "mimetype": "text/x-python",
   "name": "python",
   "nbconvert_exporter": "python",
   "pygments_lexer": "ipython3",
   "version": "3.8.8"
  }
 },
 "nbformat": 4,
 "nbformat_minor": 5
}
