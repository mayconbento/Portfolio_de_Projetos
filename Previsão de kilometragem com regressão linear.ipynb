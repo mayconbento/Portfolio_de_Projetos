{
 "cells": [
  {
   "cell_type": "markdown",
   "id": "f9678e13",
   "metadata": {},
   "source": [
    "# Previsão de Kilometragem mensal "
   ]
  },
  {
   "cell_type": "markdown",
   "id": "b2e5d473",
   "metadata": {},
   "source": [
    "## Importação de pacotes"
   ]
  },
  {
   "cell_type": "code",
   "execution_count": 1,
   "id": "822b93fd",
   "metadata": {},
   "outputs": [],
   "source": [
    "import pandas as pd\n",
    "#from prophet import Prophet\n",
    "import matplotlib.pyplot as plt\n",
    "import numpy as np\n",
    "from sklearn.linear_model import LinearRegression\n",
    "import seaborn as sns\n",
    "sns.set_theme(color_codes=True)"
   ]
  },
  {
   "cell_type": "markdown",
   "id": "b575eb4d",
   "metadata": {},
   "source": [
    "## Ler multiplas abas do excel e fazer o bind rows"
   ]
  },
  {
   "cell_type": "code",
   "execution_count": 2,
   "id": "d2967446",
   "metadata": {},
   "outputs": [],
   "source": [
    "def read_excel_sheets(xls_path):\n",
    "    \"\"\"Read all sheets of an Excel workbook and return a single DataFrame\"\"\"\n",
    "    print(f'Loading {xls_path} into pandas')\n",
    "    xl = pd.ExcelFile(xls_path)\n",
    "    df = pd.DataFrame()\n",
    "    columns = None\n",
    "    for idx, name in enumerate(xl.sheet_names):\n",
    "        print(f'Reading sheet #{idx}: {name}')\n",
    "        sheet = xl.parse(name)\n",
    "        if idx == 0:\n",
    "            # Save column names from the first sheet to match for append\n",
    "            columns = sheet.columns\n",
    "        sheet.columns = columns\n",
    "        # Assume index of existing data frame when appended\n",
    "        df = df.append(sheet, ignore_index=True)\n",
    "    return df"
   ]
  },
  {
   "cell_type": "code",
   "execution_count": 3,
   "id": "3f3403e7",
   "metadata": {},
   "outputs": [
    {
     "name": "stdout",
     "output_type": "stream",
     "text": [
      "Loading PREVISAO_KM.xlsx into pandas\n",
      "Reading sheet #0: CAP1\n",
      "Reading sheet #1: CAP7\n",
      "Reading sheet #2: LIRA11\n",
      "Reading sheet #3: LIRA13\n",
      "Reading sheet #4: RLC16\n",
      "Reading sheet #5: WS4\n",
      "Reading sheet #6: RS16\n"
     ]
    }
   ],
   "source": [
    "df = read_excel_sheets('PREVISAO_KM.xlsx')"
   ]
  },
  {
   "cell_type": "markdown",
   "id": "6349648d",
   "metadata": {},
   "source": [
    "## Investigar os dados"
   ]
  },
  {
   "cell_type": "code",
   "execution_count": 4,
   "id": "82fef4c1",
   "metadata": {},
   "outputs": [
    {
     "data": {
      "text/html": [
       "<div>\n",
       "<style scoped>\n",
       "    .dataframe tbody tr th:only-of-type {\n",
       "        vertical-align: middle;\n",
       "    }\n",
       "\n",
       "    .dataframe tbody tr th {\n",
       "        vertical-align: top;\n",
       "    }\n",
       "\n",
       "    .dataframe thead th {\n",
       "        text-align: right;\n",
       "    }\n",
       "</style>\n",
       "<table border=\"1\" class=\"dataframe\">\n",
       "  <thead>\n",
       "    <tr style=\"text-align: right;\">\n",
       "      <th></th>\n",
       "      <th>08/2021</th>\n",
       "      <th>G</th>\n",
       "      <th>QUILOMETRAGEM</th>\n",
       "      <th>ANO</th>\n",
       "      <th>EQUIPE</th>\n",
       "      <th>TOT</th>\n",
       "      <th>01</th>\n",
       "      <th>02</th>\n",
       "      <th>03</th>\n",
       "      <th>04</th>\n",
       "      <th>...</th>\n",
       "      <th>22</th>\n",
       "      <th>23</th>\n",
       "      <th>24</th>\n",
       "      <th>25</th>\n",
       "      <th>26</th>\n",
       "      <th>27</th>\n",
       "      <th>28</th>\n",
       "      <th>29</th>\n",
       "      <th>30</th>\n",
       "      <th>31</th>\n",
       "    </tr>\n",
       "  </thead>\n",
       "  <tbody>\n",
       "    <tr>\n",
       "      <th>0</th>\n",
       "      <td>14</td>\n",
       "      <td>1.0</td>\n",
       "      <td>BANDEIRANTE</td>\n",
       "      <td>1991.0</td>\n",
       "      <td>HOT AP HOT</td>\n",
       "      <td>379</td>\n",
       "      <td>NaN</td>\n",
       "      <td>NaN</td>\n",
       "      <td>NaN</td>\n",
       "      <td>NaN</td>\n",
       "      <td>...</td>\n",
       "      <td>NaN</td>\n",
       "      <td>NaN</td>\n",
       "      <td>NaN</td>\n",
       "      <td>NaN</td>\n",
       "      <td>NaN</td>\n",
       "      <td>NaN</td>\n",
       "      <td>NaN</td>\n",
       "      <td>NaN</td>\n",
       "      <td>NaN</td>\n",
       "      <td>NaN</td>\n",
       "    </tr>\n",
       "    <tr>\n",
       "      <th>1</th>\n",
       "      <td>672</td>\n",
       "      <td>1.0</td>\n",
       "      <td>O 500 M E3</td>\n",
       "      <td>2008.0</td>\n",
       "      <td>HOT FT HOT</td>\n",
       "      <td>4072</td>\n",
       "      <td>NaN</td>\n",
       "      <td>NaN</td>\n",
       "      <td>595.0</td>\n",
       "      <td>NaN</td>\n",
       "      <td>...</td>\n",
       "      <td>NaN</td>\n",
       "      <td>NaN</td>\n",
       "      <td>614.0</td>\n",
       "      <td>NaN</td>\n",
       "      <td>NaN</td>\n",
       "      <td>NaN</td>\n",
       "      <td>NaN</td>\n",
       "      <td>NaN</td>\n",
       "      <td>651.0</td>\n",
       "      <td>NaN</td>\n",
       "    </tr>\n",
       "    <tr>\n",
       "      <th>2</th>\n",
       "      <td>1240</td>\n",
       "      <td>1.0</td>\n",
       "      <td>313 CDI E3</td>\n",
       "      <td>2011.0</td>\n",
       "      <td>HOT FT HOT</td>\n",
       "      <td>1845</td>\n",
       "      <td>NaN</td>\n",
       "      <td>NaN</td>\n",
       "      <td>NaN</td>\n",
       "      <td>NaN</td>\n",
       "      <td>...</td>\n",
       "      <td>NaN</td>\n",
       "      <td>NaN</td>\n",
       "      <td>NaN</td>\n",
       "      <td>535.0</td>\n",
       "      <td>NaN</td>\n",
       "      <td>NaN</td>\n",
       "      <td>NaN</td>\n",
       "      <td>NaN</td>\n",
       "      <td>NaN</td>\n",
       "      <td>NaN</td>\n",
       "    </tr>\n",
       "    <tr>\n",
       "      <th>3</th>\n",
       "      <td>1302</td>\n",
       "      <td>1.0</td>\n",
       "      <td>LO 916 E5</td>\n",
       "      <td>2013.0</td>\n",
       "      <td>HOT FT HOT</td>\n",
       "      <td>6510</td>\n",
       "      <td>NaN</td>\n",
       "      <td>NaN</td>\n",
       "      <td>NaN</td>\n",
       "      <td>658.0</td>\n",
       "      <td>...</td>\n",
       "      <td>NaN</td>\n",
       "      <td>520.0</td>\n",
       "      <td>NaN</td>\n",
       "      <td>687.0</td>\n",
       "      <td>NaN</td>\n",
       "      <td>NaN</td>\n",
       "      <td>295.0</td>\n",
       "      <td>NaN</td>\n",
       "      <td>656.0</td>\n",
       "      <td>NaN</td>\n",
       "    </tr>\n",
       "    <tr>\n",
       "      <th>4</th>\n",
       "      <td>2475</td>\n",
       "      <td>1.0</td>\n",
       "      <td>PALIO  1.0</td>\n",
       "      <td>2010.0</td>\n",
       "      <td>HOT AD HOT</td>\n",
       "      <td>988</td>\n",
       "      <td>NaN</td>\n",
       "      <td>NaN</td>\n",
       "      <td>NaN</td>\n",
       "      <td>NaN</td>\n",
       "      <td>...</td>\n",
       "      <td>NaN</td>\n",
       "      <td>NaN</td>\n",
       "      <td>NaN</td>\n",
       "      <td>NaN</td>\n",
       "      <td>NaN</td>\n",
       "      <td>NaN</td>\n",
       "      <td>NaN</td>\n",
       "      <td>NaN</td>\n",
       "      <td>NaN</td>\n",
       "      <td>NaN</td>\n",
       "    </tr>\n",
       "  </tbody>\n",
       "</table>\n",
       "<p>5 rows × 37 columns</p>\n",
       "</div>"
      ],
      "text/plain": [
       "  08/2021    G QUILOMETRAGEM     ANO      EQUIPE   TOT  01  02     03     04  \\\n",
       "0      14  1.0   BANDEIRANTE  1991.0  HOT AP HOT   379 NaN NaN    NaN    NaN   \n",
       "1     672  1.0    O 500 M E3  2008.0  HOT FT HOT  4072 NaN NaN  595.0    NaN   \n",
       "2    1240  1.0    313 CDI E3  2011.0  HOT FT HOT  1845 NaN NaN    NaN    NaN   \n",
       "3    1302  1.0     LO 916 E5  2013.0  HOT FT HOT  6510 NaN NaN    NaN  658.0   \n",
       "4    2475  1.0    PALIO  1.0  2010.0  HOT AD HOT   988 NaN NaN    NaN    NaN   \n",
       "\n",
       "   ...  22     23     24     25  26  27     28  29     30  31  \n",
       "0  ... NaN    NaN    NaN    NaN NaN NaN    NaN NaN    NaN NaN  \n",
       "1  ... NaN    NaN  614.0    NaN NaN NaN    NaN NaN  651.0 NaN  \n",
       "2  ... NaN    NaN    NaN  535.0 NaN NaN    NaN NaN    NaN NaN  \n",
       "3  ... NaN  520.0    NaN  687.0 NaN NaN  295.0 NaN  656.0 NaN  \n",
       "4  ... NaN    NaN    NaN    NaN NaN NaN    NaN NaN    NaN NaN  \n",
       "\n",
       "[5 rows x 37 columns]"
      ]
     },
     "execution_count": 4,
     "metadata": {},
     "output_type": "execute_result"
    }
   ],
   "source": [
    "df.head()"
   ]
  },
  {
   "cell_type": "code",
   "execution_count": 5,
   "id": "31ee6fbf",
   "metadata": {},
   "outputs": [
    {
     "data": {
      "text/plain": [
       "Index(['08/2021', 'G', 'QUILOMETRAGEM', 'ANO', 'EQUIPE', 'TOT', '01', '02',\n",
       "       '03', '04', '05', '06', '07', '08', '09', '10', '11', '12', '13', '14',\n",
       "       '15', '16', '17', '18', '19', '20', '21', '22', '23', '24', '25', '26',\n",
       "       '27', '28', '29', '30', '31'],\n",
       "      dtype='object')"
      ]
     },
     "execution_count": 5,
     "metadata": {},
     "output_type": "execute_result"
    }
   ],
   "source": [
    "df.columns"
   ]
  },
  {
   "cell_type": "code",
   "execution_count": 6,
   "id": "918bd4d3",
   "metadata": {},
   "outputs": [
    {
     "data": {
      "text/plain": [
       "(662, 37)"
      ]
     },
     "execution_count": 6,
     "metadata": {},
     "output_type": "execute_result"
    }
   ],
   "source": [
    "df.shape"
   ]
  },
  {
   "cell_type": "markdown",
   "id": "b021b55b",
   "metadata": {},
   "source": [
    "## Subseting dados"
   ]
  },
  {
   "cell_type": "code",
   "execution_count": 7,
   "id": "861ad5fc",
   "metadata": {},
   "outputs": [],
   "source": [
    "equipe = ['CA1 FT HOT','VENDA MM','HOT FT HOT','HOT MT HOT','HOT MT MOM','HOT UB HOT','MOM UB MOM']"
   ]
  },
  {
   "cell_type": "code",
   "execution_count": 8,
   "id": "08cd25c7",
   "metadata": {},
   "outputs": [],
   "source": [
    "df = df[df.EQUIPE.isin(equipe)]"
   ]
  },
  {
   "cell_type": "code",
   "execution_count": 9,
   "id": "4167a8d3",
   "metadata": {},
   "outputs": [
    {
     "data": {
      "text/plain": [
       "array(['HOT FT HOT', 'HOT MT MOM', 'HOT MT HOT', 'HOT UB HOT', 'VENDA MM',\n",
       "       'MOM UB MOM'], dtype=object)"
      ]
     },
     "execution_count": 9,
     "metadata": {},
     "output_type": "execute_result"
    }
   ],
   "source": [
    "df.EQUIPE.unique()"
   ]
  },
  {
   "cell_type": "markdown",
   "id": "24c6b522",
   "metadata": {},
   "source": [
    "## Transformar os dados (pivot wide to longer)"
   ]
  },
  {
   "cell_type": "code",
   "execution_count": 10,
   "id": "ede8ff1d",
   "metadata": {},
   "outputs": [],
   "source": [
    "df = df.loc[:,'01':'31'] #Returns a new dataframe with columns a,b and c"
   ]
  },
  {
   "cell_type": "code",
   "execution_count": 11,
   "id": "d0474801",
   "metadata": {},
   "outputs": [
    {
     "data": {
      "text/html": [
       "<div>\n",
       "<style scoped>\n",
       "    .dataframe tbody tr th:only-of-type {\n",
       "        vertical-align: middle;\n",
       "    }\n",
       "\n",
       "    .dataframe tbody tr th {\n",
       "        vertical-align: top;\n",
       "    }\n",
       "\n",
       "    .dataframe thead th {\n",
       "        text-align: right;\n",
       "    }\n",
       "</style>\n",
       "<table border=\"1\" class=\"dataframe\">\n",
       "  <thead>\n",
       "    <tr style=\"text-align: right;\">\n",
       "      <th></th>\n",
       "      <th>01</th>\n",
       "      <th>02</th>\n",
       "      <th>03</th>\n",
       "      <th>04</th>\n",
       "      <th>05</th>\n",
       "      <th>06</th>\n",
       "      <th>07</th>\n",
       "      <th>08</th>\n",
       "      <th>09</th>\n",
       "      <th>10</th>\n",
       "      <th>...</th>\n",
       "      <th>22</th>\n",
       "      <th>23</th>\n",
       "      <th>24</th>\n",
       "      <th>25</th>\n",
       "      <th>26</th>\n",
       "      <th>27</th>\n",
       "      <th>28</th>\n",
       "      <th>29</th>\n",
       "      <th>30</th>\n",
       "      <th>31</th>\n",
       "    </tr>\n",
       "  </thead>\n",
       "  <tbody>\n",
       "    <tr>\n",
       "      <th>653</th>\n",
       "      <td>NaN</td>\n",
       "      <td>435.0</td>\n",
       "      <td>265.0</td>\n",
       "      <td>97.0</td>\n",
       "      <td>165.0</td>\n",
       "      <td>253.0</td>\n",
       "      <td>476.0</td>\n",
       "      <td>336.0</td>\n",
       "      <td>NaN</td>\n",
       "      <td>336.0</td>\n",
       "      <td>...</td>\n",
       "      <td>NaN</td>\n",
       "      <td>372.0</td>\n",
       "      <td>NaN</td>\n",
       "      <td>433.0</td>\n",
       "      <td>370.0</td>\n",
       "      <td>119.0</td>\n",
       "      <td>342.0</td>\n",
       "      <td>NaN</td>\n",
       "      <td>NaN</td>\n",
       "      <td>NaN</td>\n",
       "    </tr>\n",
       "    <tr>\n",
       "      <th>654</th>\n",
       "      <td>567.0</td>\n",
       "      <td>NaN</td>\n",
       "      <td>478.0</td>\n",
       "      <td>NaN</td>\n",
       "      <td>NaN</td>\n",
       "      <td>947.0</td>\n",
       "      <td>311.0</td>\n",
       "      <td>NaN</td>\n",
       "      <td>321.0</td>\n",
       "      <td>259.0</td>\n",
       "      <td>...</td>\n",
       "      <td>NaN</td>\n",
       "      <td>492.0</td>\n",
       "      <td>NaN</td>\n",
       "      <td>661.0</td>\n",
       "      <td>173.0</td>\n",
       "      <td>268.0</td>\n",
       "      <td>NaN</td>\n",
       "      <td>NaN</td>\n",
       "      <td>580.0</td>\n",
       "      <td>NaN</td>\n",
       "    </tr>\n",
       "    <tr>\n",
       "      <th>655</th>\n",
       "      <td>NaN</td>\n",
       "      <td>384.0</td>\n",
       "      <td>192.0</td>\n",
       "      <td>207.0</td>\n",
       "      <td>177.0</td>\n",
       "      <td>466.0</td>\n",
       "      <td>NaN</td>\n",
       "      <td>353.0</td>\n",
       "      <td>147.0</td>\n",
       "      <td>167.0</td>\n",
       "      <td>...</td>\n",
       "      <td>NaN</td>\n",
       "      <td>587.0</td>\n",
       "      <td>156.0</td>\n",
       "      <td>70.0</td>\n",
       "      <td>193.0</td>\n",
       "      <td>177.0</td>\n",
       "      <td>179.0</td>\n",
       "      <td>NaN</td>\n",
       "      <td>377.0</td>\n",
       "      <td>NaN</td>\n",
       "    </tr>\n",
       "    <tr>\n",
       "      <th>657</th>\n",
       "      <td>NaN</td>\n",
       "      <td>NaN</td>\n",
       "      <td>NaN</td>\n",
       "      <td>607.0</td>\n",
       "      <td>NaN</td>\n",
       "      <td>NaN</td>\n",
       "      <td>NaN</td>\n",
       "      <td>NaN</td>\n",
       "      <td>NaN</td>\n",
       "      <td>NaN</td>\n",
       "      <td>...</td>\n",
       "      <td>NaN</td>\n",
       "      <td>829.0</td>\n",
       "      <td>269.0</td>\n",
       "      <td>357.0</td>\n",
       "      <td>154.0</td>\n",
       "      <td>151.0</td>\n",
       "      <td>NaN</td>\n",
       "      <td>442.0</td>\n",
       "      <td>NaN</td>\n",
       "      <td>NaN</td>\n",
       "    </tr>\n",
       "    <tr>\n",
       "      <th>658</th>\n",
       "      <td>NaN</td>\n",
       "      <td>512.0</td>\n",
       "      <td>NaN</td>\n",
       "      <td>457.0</td>\n",
       "      <td>NaN</td>\n",
       "      <td>649.0</td>\n",
       "      <td>NaN</td>\n",
       "      <td>NaN</td>\n",
       "      <td>563.0</td>\n",
       "      <td>NaN</td>\n",
       "      <td>...</td>\n",
       "      <td>NaN</td>\n",
       "      <td>594.0</td>\n",
       "      <td>NaN</td>\n",
       "      <td>650.0</td>\n",
       "      <td>NaN</td>\n",
       "      <td>NaN</td>\n",
       "      <td>480.0</td>\n",
       "      <td>NaN</td>\n",
       "      <td>NaN</td>\n",
       "      <td>NaN</td>\n",
       "    </tr>\n",
       "  </tbody>\n",
       "</table>\n",
       "<p>5 rows × 31 columns</p>\n",
       "</div>"
      ],
      "text/plain": [
       "        01     02     03     04     05     06     07     08     09     10  \\\n",
       "653    NaN  435.0  265.0   97.0  165.0  253.0  476.0  336.0    NaN  336.0   \n",
       "654  567.0    NaN  478.0    NaN    NaN  947.0  311.0    NaN  321.0  259.0   \n",
       "655    NaN  384.0  192.0  207.0  177.0  466.0    NaN  353.0  147.0  167.0   \n",
       "657    NaN    NaN    NaN  607.0    NaN    NaN    NaN    NaN    NaN    NaN   \n",
       "658    NaN  512.0    NaN  457.0    NaN  649.0    NaN    NaN  563.0    NaN   \n",
       "\n",
       "     ...  22     23     24     25     26     27     28     29     30  31  \n",
       "653  ... NaN  372.0    NaN  433.0  370.0  119.0  342.0    NaN    NaN NaN  \n",
       "654  ... NaN  492.0    NaN  661.0  173.0  268.0    NaN    NaN  580.0 NaN  \n",
       "655  ... NaN  587.0  156.0   70.0  193.0  177.0  179.0    NaN  377.0 NaN  \n",
       "657  ... NaN  829.0  269.0  357.0  154.0  151.0    NaN  442.0    NaN NaN  \n",
       "658  ... NaN  594.0    NaN  650.0    NaN    NaN  480.0    NaN    NaN NaN  \n",
       "\n",
       "[5 rows x 31 columns]"
      ]
     },
     "execution_count": 11,
     "metadata": {},
     "output_type": "execute_result"
    }
   ],
   "source": [
    "df.tail()"
   ]
  },
  {
   "cell_type": "code",
   "execution_count": 12,
   "id": "b8adc6b4",
   "metadata": {},
   "outputs": [],
   "source": [
    "#df.to_excel('maycon.xlsx')"
   ]
  },
  {
   "cell_type": "code",
   "execution_count": 13,
   "id": "367cbbc1",
   "metadata": {},
   "outputs": [],
   "source": [
    "df = df.unstack().reset_index()"
   ]
  },
  {
   "cell_type": "code",
   "execution_count": 14,
   "id": "d9d6e712",
   "metadata": {},
   "outputs": [
    {
     "data": {
      "text/html": [
       "<div>\n",
       "<style scoped>\n",
       "    .dataframe tbody tr th:only-of-type {\n",
       "        vertical-align: middle;\n",
       "    }\n",
       "\n",
       "    .dataframe tbody tr th {\n",
       "        vertical-align: top;\n",
       "    }\n",
       "\n",
       "    .dataframe thead th {\n",
       "        text-align: right;\n",
       "    }\n",
       "</style>\n",
       "<table border=\"1\" class=\"dataframe\">\n",
       "  <thead>\n",
       "    <tr style=\"text-align: right;\">\n",
       "      <th></th>\n",
       "      <th>level_0</th>\n",
       "      <th>level_1</th>\n",
       "      <th>0</th>\n",
       "    </tr>\n",
       "  </thead>\n",
       "  <tbody>\n",
       "    <tr>\n",
       "      <th>9791</th>\n",
       "      <td>31</td>\n",
       "      <td>653</td>\n",
       "      <td>NaN</td>\n",
       "    </tr>\n",
       "    <tr>\n",
       "      <th>9792</th>\n",
       "      <td>31</td>\n",
       "      <td>654</td>\n",
       "      <td>NaN</td>\n",
       "    </tr>\n",
       "    <tr>\n",
       "      <th>9793</th>\n",
       "      <td>31</td>\n",
       "      <td>655</td>\n",
       "      <td>NaN</td>\n",
       "    </tr>\n",
       "    <tr>\n",
       "      <th>9794</th>\n",
       "      <td>31</td>\n",
       "      <td>657</td>\n",
       "      <td>NaN</td>\n",
       "    </tr>\n",
       "    <tr>\n",
       "      <th>9795</th>\n",
       "      <td>31</td>\n",
       "      <td>658</td>\n",
       "      <td>NaN</td>\n",
       "    </tr>\n",
       "  </tbody>\n",
       "</table>\n",
       "</div>"
      ],
      "text/plain": [
       "     level_0  level_1   0\n",
       "9791      31      653 NaN\n",
       "9792      31      654 NaN\n",
       "9793      31      655 NaN\n",
       "9794      31      657 NaN\n",
       "9795      31      658 NaN"
      ]
     },
     "execution_count": 14,
     "metadata": {},
     "output_type": "execute_result"
    }
   ],
   "source": [
    "df.tail()"
   ]
  },
  {
   "cell_type": "code",
   "execution_count": 15,
   "id": "cf333eae",
   "metadata": {},
   "outputs": [],
   "source": [
    "df.columns = [['DIA','idx','KM']]"
   ]
  },
  {
   "cell_type": "code",
   "execution_count": 16,
   "id": "faae10de",
   "metadata": {},
   "outputs": [
    {
     "data": {
      "text/plain": [
       "KM    4938\n",
       "dtype: int64"
      ]
     },
     "execution_count": 16,
     "metadata": {},
     "output_type": "execute_result"
    }
   ],
   "source": [
    "df['KM'].isna().sum()"
   ]
  },
  {
   "cell_type": "code",
   "execution_count": 17,
   "id": "2fd11f40",
   "metadata": {},
   "outputs": [
    {
     "data": {
      "text/plain": [
       "DIA    0\n",
       "dtype: int64"
      ]
     },
     "execution_count": 17,
     "metadata": {},
     "output_type": "execute_result"
    }
   ],
   "source": [
    "df['DIA'].isna().sum()"
   ]
  },
  {
   "cell_type": "code",
   "execution_count": 18,
   "id": "548442c2",
   "metadata": {},
   "outputs": [],
   "source": [
    "df.dropna(inplace=True)"
   ]
  },
  {
   "cell_type": "code",
   "execution_count": 19,
   "id": "70011c3d",
   "metadata": {},
   "outputs": [
    {
     "data": {
      "text/plain": [
       "KM    0\n",
       "dtype: int64"
      ]
     },
     "execution_count": 19,
     "metadata": {},
     "output_type": "execute_result"
    }
   ],
   "source": [
    "df['KM'].isna().sum()"
   ]
  },
  {
   "cell_type": "markdown",
   "id": "81ae10fd",
   "metadata": {},
   "source": [
    "## Renomear as colunas"
   ]
  },
  {
   "cell_type": "code",
   "execution_count": 20,
   "id": "3a9ceb3f",
   "metadata": {},
   "outputs": [],
   "source": [
    "df = df[['DIA','KM']]"
   ]
  },
  {
   "cell_type": "code",
   "execution_count": 21,
   "id": "9d12de3d",
   "metadata": {},
   "outputs": [
    {
     "data": {
      "text/html": [
       "<div>\n",
       "<style scoped>\n",
       "    .dataframe tbody tr th:only-of-type {\n",
       "        vertical-align: middle;\n",
       "    }\n",
       "\n",
       "    .dataframe tbody tr th {\n",
       "        vertical-align: top;\n",
       "    }\n",
       "\n",
       "    .dataframe thead tr th {\n",
       "        text-align: left;\n",
       "    }\n",
       "</style>\n",
       "<table border=\"1\" class=\"dataframe\">\n",
       "  <thead>\n",
       "    <tr>\n",
       "      <th></th>\n",
       "      <th>DIA</th>\n",
       "      <th>KM</th>\n",
       "    </tr>\n",
       "  </thead>\n",
       "  <tbody>\n",
       "    <tr>\n",
       "      <th>7</th>\n",
       "      <td>01</td>\n",
       "      <td>377.0</td>\n",
       "    </tr>\n",
       "    <tr>\n",
       "      <th>30</th>\n",
       "      <td>01</td>\n",
       "      <td>130.0</td>\n",
       "    </tr>\n",
       "    <tr>\n",
       "      <th>31</th>\n",
       "      <td>01</td>\n",
       "      <td>705.0</td>\n",
       "    </tr>\n",
       "    <tr>\n",
       "      <th>34</th>\n",
       "      <td>01</td>\n",
       "      <td>286.0</td>\n",
       "    </tr>\n",
       "    <tr>\n",
       "      <th>35</th>\n",
       "      <td>01</td>\n",
       "      <td>518.0</td>\n",
       "    </tr>\n",
       "    <tr>\n",
       "      <th>39</th>\n",
       "      <td>01</td>\n",
       "      <td>459.0</td>\n",
       "    </tr>\n",
       "    <tr>\n",
       "      <th>40</th>\n",
       "      <td>01</td>\n",
       "      <td>334.0</td>\n",
       "    </tr>\n",
       "    <tr>\n",
       "      <th>43</th>\n",
       "      <td>01</td>\n",
       "      <td>231.0</td>\n",
       "    </tr>\n",
       "    <tr>\n",
       "      <th>44</th>\n",
       "      <td>01</td>\n",
       "      <td>182.0</td>\n",
       "    </tr>\n",
       "    <tr>\n",
       "      <th>45</th>\n",
       "      <td>01</td>\n",
       "      <td>198.0</td>\n",
       "    </tr>\n",
       "  </tbody>\n",
       "</table>\n",
       "</div>"
      ],
      "text/plain": [
       "   DIA     KM\n",
       "7   01  377.0\n",
       "30  01  130.0\n",
       "31  01  705.0\n",
       "34  01  286.0\n",
       "35  01  518.0\n",
       "39  01  459.0\n",
       "40  01  334.0\n",
       "43  01  231.0\n",
       "44  01  182.0\n",
       "45  01  198.0"
      ]
     },
     "execution_count": 21,
     "metadata": {},
     "output_type": "execute_result"
    }
   ],
   "source": [
    "df.head(10)"
   ]
  },
  {
   "cell_type": "markdown",
   "id": "38fccc29",
   "metadata": {},
   "source": [
    "## Histograma dos kms"
   ]
  },
  {
   "cell_type": "code",
   "execution_count": 22,
   "id": "0c3c302c",
   "metadata": {},
   "outputs": [
    {
     "data": {
      "text/plain": [
       "<AxesSubplot:ylabel='Count'>"
      ]
     },
     "execution_count": 22,
     "metadata": {},
     "output_type": "execute_result"
    },
    {
     "data": {
      "image/png": "[encoded data removed]",
      "text/plain": [
       "<Figure size 432x288 with 1 Axes>"
      ]
     },
     "metadata": {},
     "output_type": "display_data"
    }
   ],
   "source": [
    "sns.histplot(data=df)"
   ]
  },
  {
   "cell_type": "code",
   "execution_count": 23,
   "id": "72f3942e",
   "metadata": {},
   "outputs": [
    {
     "data": {
      "text/html": [
       "<div>\n",
       "<style scoped>\n",
       "    .dataframe tbody tr th:only-of-type {\n",
       "        vertical-align: middle;\n",
       "    }\n",
       "\n",
       "    .dataframe tbody tr th {\n",
       "        vertical-align: top;\n",
       "    }\n",
       "\n",
       "    .dataframe thead tr th {\n",
       "        text-align: left;\n",
       "    }\n",
       "</style>\n",
       "<table border=\"1\" class=\"dataframe\">\n",
       "  <thead>\n",
       "    <tr>\n",
       "      <th></th>\n",
       "      <th>KM</th>\n",
       "    </tr>\n",
       "  </thead>\n",
       "  <tbody>\n",
       "    <tr>\n",
       "      <th>count</th>\n",
       "      <td>4858.0</td>\n",
       "    </tr>\n",
       "    <tr>\n",
       "      <th>mean</th>\n",
       "      <td>417.0</td>\n",
       "    </tr>\n",
       "    <tr>\n",
       "      <th>std</th>\n",
       "      <td>198.0</td>\n",
       "    </tr>\n",
       "    <tr>\n",
       "      <th>min</th>\n",
       "      <td>1.0</td>\n",
       "    </tr>\n",
       "    <tr>\n",
       "      <th>25%</th>\n",
       "      <td>280.0</td>\n",
       "    </tr>\n",
       "    <tr>\n",
       "      <th>50%</th>\n",
       "      <td>379.0</td>\n",
       "    </tr>\n",
       "    <tr>\n",
       "      <th>75%</th>\n",
       "      <td>518.0</td>\n",
       "    </tr>\n",
       "    <tr>\n",
       "      <th>max</th>\n",
       "      <td>2055.0</td>\n",
       "    </tr>\n",
       "  </tbody>\n",
       "</table>\n",
       "</div>"
      ],
      "text/plain": [
       "           KM\n",
       "count  4858.0\n",
       "mean    417.0\n",
       "std     198.0\n",
       "min       1.0\n",
       "25%     280.0\n",
       "50%     379.0\n",
       "75%     518.0\n",
       "max    2055.0"
      ]
     },
     "execution_count": 23,
     "metadata": {},
     "output_type": "execute_result"
    }
   ],
   "source": [
    "df.describe().round()"
   ]
  },
  {
   "cell_type": "markdown",
   "id": "e2545e6a",
   "metadata": {},
   "source": [
    "## Group by por dia "
   ]
  },
  {
   "cell_type": "code",
   "execution_count": 24,
   "id": "5fa4bca1",
   "metadata": {},
   "outputs": [],
   "source": [
    "df.columns = ['DIA', 'KM']"
   ]
  },
  {
   "cell_type": "code",
   "execution_count": 25,
   "id": "f557d5e9",
   "metadata": {},
   "outputs": [],
   "source": [
    "df = df.groupby(['DIA']).sum()"
   ]
  },
  {
   "cell_type": "code",
   "execution_count": 26,
   "id": "4b9dad7d",
   "metadata": {},
   "outputs": [
    {
     "data": {
      "text/html": [
       "<div>\n",
       "<style scoped>\n",
       "    .dataframe tbody tr th:only-of-type {\n",
       "        vertical-align: middle;\n",
       "    }\n",
       "\n",
       "    .dataframe tbody tr th {\n",
       "        vertical-align: top;\n",
       "    }\n",
       "\n",
       "    .dataframe thead th {\n",
       "        text-align: right;\n",
       "    }\n",
       "</style>\n",
       "<table border=\"1\" class=\"dataframe\">\n",
       "  <thead>\n",
       "    <tr style=\"text-align: right;\">\n",
       "      <th></th>\n",
       "      <th>KM</th>\n",
       "    </tr>\n",
       "    <tr>\n",
       "      <th>DIA</th>\n",
       "      <th></th>\n",
       "    </tr>\n",
       "  </thead>\n",
       "  <tbody>\n",
       "    <tr>\n",
       "      <th>26</th>\n",
       "      <td>80774.0</td>\n",
       "    </tr>\n",
       "    <tr>\n",
       "      <th>27</th>\n",
       "      <td>78071.0</td>\n",
       "    </tr>\n",
       "    <tr>\n",
       "      <th>28</th>\n",
       "      <td>49989.0</td>\n",
       "    </tr>\n",
       "    <tr>\n",
       "      <th>29</th>\n",
       "      <td>28408.0</td>\n",
       "    </tr>\n",
       "    <tr>\n",
       "      <th>30</th>\n",
       "      <td>77270.0</td>\n",
       "    </tr>\n",
       "  </tbody>\n",
       "</table>\n",
       "</div>"
      ],
      "text/plain": [
       "          KM\n",
       "DIA         \n",
       "26   80774.0\n",
       "27   78071.0\n",
       "28   49989.0\n",
       "29   28408.0\n",
       "30   77270.0"
      ]
     },
     "execution_count": 26,
     "metadata": {},
     "output_type": "execute_result"
    }
   ],
   "source": [
    "df.tail()"
   ]
  },
  {
   "cell_type": "markdown",
   "id": "179e8df4",
   "metadata": {},
   "source": [
    "## Cumsum "
   ]
  },
  {
   "cell_type": "code",
   "execution_count": 27,
   "id": "0a1f39e5",
   "metadata": {},
   "outputs": [],
   "source": [
    "df = df.cumsum()"
   ]
  },
  {
   "cell_type": "code",
   "execution_count": 28,
   "id": "bf9130dc",
   "metadata": {},
   "outputs": [],
   "source": [
    "df = df.reset_index()"
   ]
  },
  {
   "cell_type": "code",
   "execution_count": 29,
   "id": "1dda81c7",
   "metadata": {},
   "outputs": [
    {
     "data": {
      "text/plain": [
       "DIA     object\n",
       "KM     float64\n",
       "dtype: object"
      ]
     },
     "execution_count": 29,
     "metadata": {},
     "output_type": "execute_result"
    }
   ],
   "source": [
    "df.dtypes"
   ]
  },
  {
   "cell_type": "code",
   "execution_count": 30,
   "id": "6ecd1202",
   "metadata": {},
   "outputs": [
    {
     "data": {
      "text/html": [
       "<div>\n",
       "<style scoped>\n",
       "    .dataframe tbody tr th:only-of-type {\n",
       "        vertical-align: middle;\n",
       "    }\n",
       "\n",
       "    .dataframe tbody tr th {\n",
       "        vertical-align: top;\n",
       "    }\n",
       "\n",
       "    .dataframe thead th {\n",
       "        text-align: right;\n",
       "    }\n",
       "</style>\n",
       "<table border=\"1\" class=\"dataframe\">\n",
       "  <thead>\n",
       "    <tr style=\"text-align: right;\">\n",
       "      <th></th>\n",
       "      <th>DIA</th>\n",
       "      <th>KM</th>\n",
       "    </tr>\n",
       "  </thead>\n",
       "  <tbody>\n",
       "    <tr>\n",
       "      <th>0</th>\n",
       "      <td>01</td>\n",
       "      <td>30631.0</td>\n",
       "    </tr>\n",
       "    <tr>\n",
       "      <th>1</th>\n",
       "      <td>02</td>\n",
       "      <td>105304.0</td>\n",
       "    </tr>\n",
       "    <tr>\n",
       "      <th>2</th>\n",
       "      <td>03</td>\n",
       "      <td>183948.0</td>\n",
       "    </tr>\n",
       "    <tr>\n",
       "      <th>3</th>\n",
       "      <td>04</td>\n",
       "      <td>258182.0</td>\n",
       "    </tr>\n",
       "    <tr>\n",
       "      <th>4</th>\n",
       "      <td>05</td>\n",
       "      <td>346360.0</td>\n",
       "    </tr>\n",
       "  </tbody>\n",
       "</table>\n",
       "</div>"
      ],
      "text/plain": [
       "  DIA        KM\n",
       "0  01   30631.0\n",
       "1  02  105304.0\n",
       "2  03  183948.0\n",
       "3  04  258182.0\n",
       "4  05  346360.0"
      ]
     },
     "execution_count": 30,
     "metadata": {},
     "output_type": "execute_result"
    }
   ],
   "source": [
    "df.head()"
   ]
  },
  {
   "cell_type": "markdown",
   "id": "94560ff4",
   "metadata": {},
   "source": [
    "## Drop last row by selecting all rows except last row"
   ]
  },
  {
   "cell_type": "code",
   "execution_count": 31,
   "id": "a38c4ef9",
   "metadata": {},
   "outputs": [],
   "source": [
    "df = df.iloc[:-10 , :]"
   ]
  },
  {
   "cell_type": "code",
   "execution_count": 32,
   "id": "73add49f",
   "metadata": {},
   "outputs": [],
   "source": [
    "df = df[['DIA','KM']]"
   ]
  },
  {
   "cell_type": "code",
   "execution_count": 33,
   "id": "aa675e02",
   "metadata": {},
   "outputs": [
    {
     "data": {
      "text/html": [
       "<div>\n",
       "<style scoped>\n",
       "    .dataframe tbody tr th:only-of-type {\n",
       "        vertical-align: middle;\n",
       "    }\n",
       "\n",
       "    .dataframe tbody tr th {\n",
       "        vertical-align: top;\n",
       "    }\n",
       "\n",
       "    .dataframe thead th {\n",
       "        text-align: right;\n",
       "    }\n",
       "</style>\n",
       "<table border=\"1\" class=\"dataframe\">\n",
       "  <thead>\n",
       "    <tr style=\"text-align: right;\">\n",
       "      <th></th>\n",
       "      <th>DIA</th>\n",
       "      <th>KM</th>\n",
       "    </tr>\n",
       "  </thead>\n",
       "  <tbody>\n",
       "    <tr>\n",
       "      <th>15</th>\n",
       "      <td>16</td>\n",
       "      <td>1052827.0</td>\n",
       "    </tr>\n",
       "    <tr>\n",
       "      <th>16</th>\n",
       "      <td>17</td>\n",
       "      <td>1138202.0</td>\n",
       "    </tr>\n",
       "    <tr>\n",
       "      <th>17</th>\n",
       "      <td>18</td>\n",
       "      <td>1220316.0</td>\n",
       "    </tr>\n",
       "    <tr>\n",
       "      <th>18</th>\n",
       "      <td>19</td>\n",
       "      <td>1303297.0</td>\n",
       "    </tr>\n",
       "    <tr>\n",
       "      <th>19</th>\n",
       "      <td>20</td>\n",
       "      <td>1383116.0</td>\n",
       "    </tr>\n",
       "  </tbody>\n",
       "</table>\n",
       "</div>"
      ],
      "text/plain": [
       "   DIA         KM\n",
       "15  16  1052827.0\n",
       "16  17  1138202.0\n",
       "17  18  1220316.0\n",
       "18  19  1303297.0\n",
       "19  20  1383116.0"
      ]
     },
     "execution_count": 33,
     "metadata": {},
     "output_type": "execute_result"
    }
   ],
   "source": [
    "df.tail()"
   ]
  },
  {
   "cell_type": "markdown",
   "id": "beeee7a0",
   "metadata": {},
   "source": [
    "## Mudar o tipo de dados"
   ]
  },
  {
   "cell_type": "code",
   "execution_count": 34,
   "id": "883a0186",
   "metadata": {},
   "outputs": [
    {
     "name": "stdout",
     "output_type": "stream",
     "text": [
      "<class 'pandas.core.frame.DataFrame'>\n",
      "RangeIndex: 20 entries, 0 to 19\n",
      "Data columns (total 2 columns):\n",
      " #   Column  Non-Null Count  Dtype  \n",
      "---  ------  --------------  -----  \n",
      " 0   DIA     20 non-null     object \n",
      " 1   KM      20 non-null     float64\n",
      "dtypes: float64(1), object(1)\n",
      "memory usage: 448.0+ bytes\n"
     ]
    }
   ],
   "source": [
    "df.info()"
   ]
  },
  {
   "cell_type": "code",
   "execution_count": 35,
   "id": "b61a934b",
   "metadata": {},
   "outputs": [],
   "source": [
    "df = df.astype({\"DIA\": int, \"KM\": int})"
   ]
  },
  {
   "cell_type": "code",
   "execution_count": 36,
   "id": "afcb7758",
   "metadata": {},
   "outputs": [
    {
     "name": "stdout",
     "output_type": "stream",
     "text": [
      "<class 'pandas.core.frame.DataFrame'>\n",
      "RangeIndex: 20 entries, 0 to 19\n",
      "Data columns (total 2 columns):\n",
      " #   Column  Non-Null Count  Dtype\n",
      "---  ------  --------------  -----\n",
      " 0   DIA     20 non-null     int32\n",
      " 1   KM      20 non-null     int32\n",
      "dtypes: int32(2)\n",
      "memory usage: 288.0 bytes\n"
     ]
    }
   ],
   "source": [
    "df.info()"
   ]
  },
  {
   "cell_type": "code",
   "execution_count": 37,
   "id": "9e91162d",
   "metadata": {},
   "outputs": [],
   "source": [
    "#df= pd.read_excel('km-python.xlsx')"
   ]
  },
  {
   "cell_type": "markdown",
   "id": "6e8d7960",
   "metadata": {},
   "source": [
    "## Criação do modelo"
   ]
  },
  {
   "cell_type": "code",
   "execution_count": 38,
   "id": "0bdfbe90",
   "metadata": {},
   "outputs": [],
   "source": [
    "x = df[['DIA']].to_numpy()\n",
    "y = df[['KM']].to_numpy()"
   ]
  },
  {
   "cell_type": "code",
   "execution_count": 39,
   "id": "db0482aa",
   "metadata": {},
   "outputs": [],
   "source": [
    "model = LinearRegression()"
   ]
  },
  {
   "cell_type": "code",
   "execution_count": 40,
   "id": "d8131435",
   "metadata": {},
   "outputs": [
    {
     "data": {
      "text/plain": [
       "LinearRegression()"
      ]
     },
     "execution_count": 40,
     "metadata": {},
     "output_type": "execute_result"
    }
   ],
   "source": [
    "model.fit(x, y)"
   ]
  },
  {
   "cell_type": "code",
   "execution_count": 41,
   "id": "127132c8",
   "metadata": {},
   "outputs": [],
   "source": [
    "model = LinearRegression().fit(x, y)"
   ]
  },
  {
   "cell_type": "markdown",
   "id": "1dc4d012",
   "metadata": {},
   "source": [
    "## Avaliação do modelo"
   ]
  },
  {
   "cell_type": "code",
   "execution_count": 42,
   "id": "060ea34a",
   "metadata": {},
   "outputs": [
    {
     "name": "stdout",
     "output_type": "stream",
     "text": [
      "coefficient of determination: 0.9974856033775721\n",
      "intercept: [-21291.95263158]\n",
      "slope:  [[69115.92406015]]\n"
     ]
    }
   ],
   "source": [
    "r_sq = model.score(x, y)\n",
    "print('coefficient of determination:', r_sq)\n",
    "print('intercept:', model.intercept_)\n",
    "print('slope: ', model.coef_)"
   ]
  },
  {
   "cell_type": "code",
   "execution_count": 43,
   "id": "2651fcbe",
   "metadata": {},
   "outputs": [
    {
     "name": "stdout",
     "output_type": "stream",
     "text": [
      "predicted response:\n",
      "[[  47823.97142857]\n",
      " [ 116939.89548872]\n",
      " [ 186055.81954887]\n",
      " [ 255171.74360902]\n",
      " [ 324287.66766917]\n",
      " [ 393403.59172932]\n",
      " [ 462519.51578947]\n",
      " [ 531635.43984962]\n",
      " [ 600751.36390977]\n",
      " [ 669867.28796992]\n",
      " [ 738983.21203008]\n",
      " [ 808099.13609023]\n",
      " [ 877215.06015038]\n",
      " [ 946330.98421053]\n",
      " [1015446.90827068]\n",
      " [1084562.83233083]\n",
      " [1153678.75639098]\n",
      " [1222794.68045113]\n",
      " [1291910.60451128]\n",
      " [1361026.52857143]]\n"
     ]
    }
   ],
   "source": [
    "y_pred = model.predict(x)\n",
    "print('predicted response:', y_pred, sep='\\n')"
   ]
  },
  {
   "cell_type": "markdown",
   "id": "278ed92b",
   "metadata": {},
   "source": [
    "## Visualizando o modelo de regressão linear"
   ]
  },
  {
   "cell_type": "code",
   "execution_count": 44,
   "id": "f90262ea",
   "metadata": {},
   "outputs": [
    {
     "data": {
      "image/png": "[encoded data removed]",
      "text/plain": [
       "<Figure size 432x288 with 1 Axes>"
      ]
     },
     "metadata": {},
     "output_type": "display_data"
    }
   ],
   "source": [
    "plt.scatter(x,y,color='green')\n",
    "plt.plot(x, model.predict(x),color='blue')\n",
    "plt.title('Linear Regression-Km')\n",
    "plt.xlabel('Dia')\n",
    "plt.ylabel('Km')\n",
    "plt.grid(True)\n",
    "plt.xticks()\n",
    "plt.yticks()\n",
    "plt.show()\n"
   ]
  },
  {
   "cell_type": "code",
   "execution_count": 45,
   "id": "b29dd5cf",
   "metadata": {},
   "outputs": [],
   "source": [
    "#sns.lmplot(x=\"DIA\", y=\"KM\", data=df,\n",
    "#           order=0, ci=True, scatter_kws={\"s\": 80});"
   ]
  },
  {
   "cell_type": "markdown",
   "id": "543599bb",
   "metadata": {},
   "source": [
    "## Check residuals"
   ]
  },
  {
   "cell_type": "code",
   "execution_count": 46,
   "id": "8a76d557",
   "metadata": {},
   "outputs": [
    {
     "data": {
      "text/plain": [
       "<AxesSubplot:xlabel='DIA', ylabel='KM'>"
      ]
     },
     "execution_count": 46,
     "metadata": {},
     "output_type": "execute_result"
    },
    {
     "data": {
      "image/png": "[encoded data removed]",
      "text/plain": [
       "<Figure size 432x288 with 1 Axes>"
      ]
     },
     "metadata": {},
     "output_type": "display_data"
    }
   ],
   "source": [
    "sns.residplot(x=\"DIA\", y=\"KM\", data=df,\n",
    "           order=0, scatter_kws={\"s\": 50})"
   ]
  },
  {
   "cell_type": "markdown",
   "id": "07315821",
   "metadata": {},
   "source": [
    "## Fazer Previsão com novos dados"
   ]
  },
  {
   "cell_type": "code",
   "execution_count": 47,
   "id": "8e4bc724",
   "metadata": {},
   "outputs": [],
   "source": [
    "x_new = np.arange(21,32).reshape((-1, 1))"
   ]
  },
  {
   "cell_type": "code",
   "execution_count": 48,
   "id": "f924e3b1",
   "metadata": {},
   "outputs": [
    {
     "name": "stdout",
     "output_type": "stream",
     "text": [
      "[[21]\n",
      " [22]\n",
      " [23]\n",
      " [24]\n",
      " [25]\n",
      " [26]\n",
      " [27]\n",
      " [28]\n",
      " [29]\n",
      " [30]\n",
      " [31]]\n"
     ]
    }
   ],
   "source": [
    "print(x_new)"
   ]
  },
  {
   "cell_type": "code",
   "execution_count": 49,
   "id": "58da56fc",
   "metadata": {},
   "outputs": [
    {
     "data": {
      "text/plain": [
       "(11, 1)"
      ]
     },
     "execution_count": 49,
     "metadata": {},
     "output_type": "execute_result"
    }
   ],
   "source": [
    "x_new.shape"
   ]
  },
  {
   "cell_type": "code",
   "execution_count": 50,
   "id": "7d6a038f",
   "metadata": {},
   "outputs": [
    {
     "name": "stdout",
     "output_type": "stream",
     "text": [
      "[[1430142.45]\n",
      " [1499258.38]\n",
      " [1568374.3 ]\n",
      " [1637490.22]\n",
      " [1706606.15]\n",
      " [1775722.07]\n",
      " [1844838.  ]\n",
      " [1913953.92]\n",
      " [1983069.85]\n",
      " [2052185.77]\n",
      " [2121301.69]]\n"
     ]
    }
   ],
   "source": [
    "y_new = model.predict(x_new)\n",
    "print(y_new.round(2))"
   ]
  },
  {
   "cell_type": "code",
   "execution_count": 51,
   "id": "4127869a",
   "metadata": {},
   "outputs": [
    {
     "name": "stdout",
     "output_type": "stream",
     "text": [
      "[[1358635.33]\n",
      " [1424295.46]\n",
      " [1489955.59]\n",
      " [1555615.71]\n",
      " [1621275.84]\n",
      " [1686935.97]\n",
      " [1752596.1 ]\n",
      " [1818256.23]\n",
      " [1883916.35]\n",
      " [1949576.48]\n",
      " [2015236.61]]\n",
      "[[1430142.45263158]\n",
      " [1499258.37669173]\n",
      " [1568374.30075188]\n",
      " [1637490.22481203]\n",
      " [1706606.14887218]\n",
      " [1775722.07293233]\n",
      " [1844837.99699248]\n",
      " [1913953.92105263]\n",
      " [1983069.84511278]\n",
      " [2052185.76917293]\n",
      " [2121301.69323308]]\n",
      "[[1501649.58]\n",
      " [1574221.3 ]\n",
      " [1646793.02]\n",
      " [1719364.74]\n",
      " [1791936.46]\n",
      " [1864508.18]\n",
      " [1937079.9 ]\n",
      " [2009651.62]\n",
      " [2082223.34]\n",
      " [2154795.06]\n",
      " [2227366.78]]\n"
     ]
    }
   ],
   "source": [
    "y_upper = y_new + (y_new*0.05)\n",
    "y_lower = y_new - (y_new*0.05)\n",
    "\n",
    "print(y_lower.round(2))\n",
    "print(y_new)\n",
    "print(y_upper.round(2))"
   ]
  },
  {
   "cell_type": "code",
   "execution_count": 52,
   "id": "8a811ff4",
   "metadata": {},
   "outputs": [
    {
     "data": {
      "image/png": "[encoded data removed]",
      "text/plain": [
       "<Figure size 432x288 with 1 Axes>"
      ]
     },
     "metadata": {},
     "output_type": "display_data"
    }
   ],
   "source": [
    "#Visualising the pollynomial regression model results\n",
    "X = x\n",
    "plt.scatter(X,y,color='green')\n",
    "plt.plot(X,model.predict(X),color='red')\n",
    "plt.title('Polynomial Regression-Km)')\n",
    "plt.xlabel('Dia')\n",
    "plt.ylabel('Km')\n",
    "plt.grid(True)\n",
    "plt.plot(x_new,y_upper,color='red')\n",
    "plt.plot(x_new,y_lower,color='red')\n",
    "#plt.fill_between(x_new, y_lower, y_upper, edgecolor='g', facecolor='g', alpha=0.3)\n",
    "plt.plot(x_new,model.predict(x_new),color='purple')\n",
    "plt.show()"
   ]
  },
  {
   "cell_type": "code",
   "execution_count": 57,
   "id": "2c04b996",
   "metadata": {},
   "outputs": [],
   "source": [
    "km = float(y_upper[-1:])\n",
    "km_target = float(y_new[-1:])"
   ]
  },
  {
   "cell_type": "code",
   "execution_count": 58,
   "id": "e5046249",
   "metadata": {},
   "outputs": [
    {
     "name": "stdout",
     "output_type": "stream",
     "text": [
      "A previsão de Km mensal será de 2227366.78\n"
     ]
    }
   ],
   "source": [
    "print(\"A previsão de Km mensal será de {:.2f}\".format(km))"
   ]
  },
  {
   "cell_type": "code",
   "execution_count": null,
   "id": "4044c3bd",
   "metadata": {},
   "outputs": [],
   "source": []
  }
 ],
 "metadata": {
  "kernelspec": {
   "display_name": "Python 3",
   "language": "python",
   "name": "python3"
  },
  "language_info": {
   "codemirror_mode": {
    "name": "ipython",
    "version": 3
   },
   "file_extension": ".py",
   "mimetype": "text/x-python",
   "name": "python",
   "nbconvert_exporter": "python",
   "pygments_lexer": "ipython3",
   "version": "3.8.8"
  }
 },
 "nbformat": 4,
 "nbformat_minor": 5
}
